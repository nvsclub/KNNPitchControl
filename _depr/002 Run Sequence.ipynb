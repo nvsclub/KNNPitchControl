{
 "cells": [
  {
   "cell_type": "code",
   "execution_count": 13,
   "metadata": {},
   "outputs": [],
   "source": [
    "import pandas as pd\n",
    "import numpy as np\n",
    "from sklearn.neighbors import KNeighborsClassifier\n",
    "\n",
    "from tqdm import tqdm\n",
    "\n",
    "import matplotlib.pyplot as plt\n",
    "import lib.draw as draw\n",
    "import imageio"
   ]
  },
  {
   "cell_type": "code",
   "execution_count": 14,
   "metadata": {},
   "outputs": [
    {
     "data": {
      "text/html": [
       "<div>\n",
       "<style scoped>\n",
       "    .dataframe tbody tr th:only-of-type {\n",
       "        vertical-align: middle;\n",
       "    }\n",
       "\n",
       "    .dataframe tbody tr th {\n",
       "        vertical-align: top;\n",
       "    }\n",
       "\n",
       "    .dataframe thead th {\n",
       "        text-align: right;\n",
       "    }\n",
       "</style>\n",
       "<table border=\"1\" class=\"dataframe\">\n",
       "  <thead>\n",
       "    <tr style=\"text-align: right;\">\n",
       "      <th></th>\n",
       "      <th>player</th>\n",
       "      <th>frame</th>\n",
       "      <th>x</th>\n",
       "      <th>y</th>\n",
       "      <th>z</th>\n",
       "      <th>dx</th>\n",
       "      <th>dy</th>\n",
       "      <th>coords</th>\n",
       "      <th>player_num</th>\n",
       "      <th>player_obj</th>\n",
       "      <th>team</th>\n",
       "      <th>num</th>\n",
       "      <th>name</th>\n",
       "      <th>edgecolor</th>\n",
       "      <th>bgcolor</th>\n",
       "    </tr>\n",
       "  </thead>\n",
       "  <tbody>\n",
       "    <tr>\n",
       "      <th>0</th>\n",
       "      <td>0</td>\n",
       "      <td>0</td>\n",
       "      <td>38.217627</td>\n",
       "      <td>15.961068</td>\n",
       "      <td>0.0</td>\n",
       "      <td>0.000000</td>\n",
       "      <td>0.000000</td>\n",
       "      <td>NaN</td>\n",
       "      <td>NaN</td>\n",
       "      <td>NaN</td>\n",
       "      <td>NaN</td>\n",
       "      <td>NaN</td>\n",
       "      <td>NaN</td>\n",
       "      <td>white</td>\n",
       "      <td>black</td>\n",
       "    </tr>\n",
       "    <tr>\n",
       "      <th>1</th>\n",
       "      <td>0</td>\n",
       "      <td>1</td>\n",
       "      <td>37.447818</td>\n",
       "      <td>15.742122</td>\n",
       "      <td>0.0</td>\n",
       "      <td>-0.769809</td>\n",
       "      <td>-0.218947</td>\n",
       "      <td>NaN</td>\n",
       "      <td>NaN</td>\n",
       "      <td>NaN</td>\n",
       "      <td>NaN</td>\n",
       "      <td>NaN</td>\n",
       "      <td>NaN</td>\n",
       "      <td>white</td>\n",
       "      <td>black</td>\n",
       "    </tr>\n",
       "    <tr>\n",
       "      <th>2</th>\n",
       "      <td>0</td>\n",
       "      <td>2</td>\n",
       "      <td>36.729118</td>\n",
       "      <td>15.537712</td>\n",
       "      <td>0.0</td>\n",
       "      <td>-0.718700</td>\n",
       "      <td>-0.204410</td>\n",
       "      <td>NaN</td>\n",
       "      <td>NaN</td>\n",
       "      <td>NaN</td>\n",
       "      <td>NaN</td>\n",
       "      <td>NaN</td>\n",
       "      <td>NaN</td>\n",
       "      <td>white</td>\n",
       "      <td>black</td>\n",
       "    </tr>\n",
       "    <tr>\n",
       "      <th>3</th>\n",
       "      <td>0</td>\n",
       "      <td>3</td>\n",
       "      <td>36.058134</td>\n",
       "      <td>15.346873</td>\n",
       "      <td>0.0</td>\n",
       "      <td>-0.670984</td>\n",
       "      <td>-0.190839</td>\n",
       "      <td>NaN</td>\n",
       "      <td>NaN</td>\n",
       "      <td>NaN</td>\n",
       "      <td>NaN</td>\n",
       "      <td>NaN</td>\n",
       "      <td>NaN</td>\n",
       "      <td>white</td>\n",
       "      <td>black</td>\n",
       "    </tr>\n",
       "    <tr>\n",
       "      <th>4</th>\n",
       "      <td>0</td>\n",
       "      <td>4</td>\n",
       "      <td>35.431698</td>\n",
       "      <td>15.168704</td>\n",
       "      <td>0.0</td>\n",
       "      <td>-0.626436</td>\n",
       "      <td>-0.178169</td>\n",
       "      <td>NaN</td>\n",
       "      <td>NaN</td>\n",
       "      <td>NaN</td>\n",
       "      <td>NaN</td>\n",
       "      <td>NaN</td>\n",
       "      <td>NaN</td>\n",
       "      <td>white</td>\n",
       "      <td>black</td>\n",
       "    </tr>\n",
       "  </tbody>\n",
       "</table>\n",
       "</div>"
      ],
      "text/plain": [
       "   player  frame          x          y    z        dx        dy coords  \\\n",
       "0       0      0  38.217627  15.961068  0.0  0.000000  0.000000    NaN   \n",
       "1       0      1  37.447818  15.742122  0.0 -0.769809 -0.218947    NaN   \n",
       "2       0      2  36.729118  15.537712  0.0 -0.718700 -0.204410    NaN   \n",
       "3       0      3  36.058134  15.346873  0.0 -0.670984 -0.190839    NaN   \n",
       "4       0      4  35.431698  15.168704  0.0 -0.626436 -0.178169    NaN   \n",
       "\n",
       "   player_num  player_obj team  num  name edgecolor bgcolor  \n",
       "0         NaN         NaN  NaN  NaN   NaN     white   black  \n",
       "1         NaN         NaN  NaN  NaN   NaN     white   black  \n",
       "2         NaN         NaN  NaN  NaN   NaN     white   black  \n",
       "3         NaN         NaN  NaN  NaN   NaN     white   black  \n",
       "4         NaN         NaN  NaN  NaN   NaN     white   black  "
      ]
     },
     "execution_count": 14,
     "metadata": {},
     "output_type": "execute_result"
    }
   ],
   "source": [
    "df = pd.read_csv('data/ronaldo_calma.csv')\n",
    "df.edgecolor.fillna('white', inplace=True)\n",
    "df.bgcolor.fillna('black', inplace=True)\n",
    "df.head()"
   ]
  },
  {
   "cell_type": "code",
   "execution_count": 15,
   "metadata": {},
   "outputs": [],
   "source": [
    "smoothing = 5\n",
    "temp_file_name = '_tmp/002_tmp_mine.png'"
   ]
  },
  {
   "cell_type": "code",
   "execution_count": 16,
   "metadata": {},
   "outputs": [],
   "source": [
    "grid = pd.DataFrame([[i/1.05, j/0.68, i/1.05, j/0.68, i/1.05, j/0.68] for i in range(106) for j in range(69)], columns=['x','y','x_1dx','y_1dy','x_2dx','y_2dy'])\n",
    "delay_0_model = KNeighborsClassifier(n_neighbors=1, n_jobs=-1)\n",
    "delay_1_model = KNeighborsClassifier(n_neighbors=1, n_jobs=-1)\n",
    "delay_2_model = KNeighborsClassifier(n_neighbors=1, n_jobs=-1)"
   ]
  },
  {
   "cell_type": "code",
   "execution_count": 17,
   "metadata": {},
   "outputs": [
    {
     "name": "stderr",
     "output_type": "stream",
     "text": [
      "100%|██████████| 289/289 [04:34<00:00,  1.05it/s]\n"
     ]
    },
    {
     "data": {
      "text/plain": [
       "<Figure size 1512x979.2 with 0 Axes>"
      ]
     },
     "metadata": {},
     "output_type": "display_data"
    }
   ],
   "source": [
    "writer = imageio.get_writer('ronaldocalma_voronoi.gif', mode='I')\n",
    "for frame_no in tqdm(df.frame.unique()):\n",
    "    frame = df[df.frame==frame_no].copy()\n",
    "\n",
    "    train_set = frame[~frame.team.isna()].copy()\n",
    "    train_set.team = (train_set.team == 'attack') * 2 - 1\n",
    "\n",
    "    delay_0_model.fit(train_set[['x','y']], train_set['team']);\n",
    "\n",
    "    grid['delay_0_control'] = delay_0_model.predict(grid[['x', 'y']])\n",
    "    grid['control'] = grid['delay_0_control']\n",
    "\n",
    "    draw.pitch(dpi=144)\n",
    "    plt.scatter(grid.x, grid.y, s=10, marker='s', c=grid.control, cmap='seismic', alpha=0.2);\n",
    "    plt.scatter(frame.x, frame.y, s=100, c=frame.bgcolor.values, edgecolors=frame.edgecolor);\n",
    "    plt.savefig(temp_file_name, bbox_inches='tight')\n",
    "    plt.clf()\n",
    "    image = imageio.imread(temp_file_name)\n",
    "    writer.append_data(image)"
   ]
  },
  {
   "cell_type": "code",
   "execution_count": 18,
   "metadata": {},
   "outputs": [
    {
     "name": "stderr",
     "output_type": "stream",
     "text": [
      "100%|██████████| 289/289 [08:41<00:00,  1.80s/it]\n"
     ]
    },
    {
     "data": {
      "text/plain": [
       "<Figure size 1512x979.2 with 0 Axes>"
      ]
     },
     "metadata": {},
     "output_type": "display_data"
    }
   ],
   "source": [
    "writer = imageio.get_writer('ronaldocalma_delayknn.gif', mode='I')\n",
    "for frame_no in tqdm(df.frame.unique()):\n",
    "    frame = df[df.frame==frame_no].copy()\n",
    "\n",
    "    train_set = frame[~frame.team.isna()].copy()\n",
    "    train_set.team = (train_set.team == 'attack') * 2 - 1\n",
    "    train_set['x_1dx'] = train_set.x + 10 * train_set.dx\n",
    "    train_set['y_1dy'] = train_set.y + 10 * train_set.dy\n",
    "    train_set['x_2dx'] = train_set.x + 20 * train_set.dx\n",
    "    train_set['y_2dy'] = train_set.y + 20 * train_set.dy\n",
    "\n",
    "    delay_0_model.fit(train_set[['x','y']], train_set['team']);\n",
    "    delay_1_model.fit(train_set[['x_1dx','y_1dy']], train_set['team']);\n",
    "    delay_2_model.fit(train_set[['x_2dx','y_2dy']], train_set['team']);\n",
    "\n",
    "    grid['delay_0_control'] = delay_0_model.predict(grid[['x', 'y']])\n",
    "    grid['delay_1_control'] = delay_1_model.predict(grid[['x_1dx', 'y_1dy']])\n",
    "    grid['delay_2_control'] = delay_2_model.predict(grid[['x_2dx', 'y_2dy']])\n",
    "\n",
    "    grid['control'] = grid['delay_0_control'] + grid['delay_1_control'] + grid['delay_2_control']\n",
    "\n",
    "    draw.pitch(dpi=144)\n",
    "    for x in grid.x.unique():\n",
    "        grid.loc[grid.x == x, 'control'] = grid.loc[grid.x == x, 'control'].rolling(smoothing, min_periods=1, center=True).mean()\n",
    "        grid.loc[grid.y == x, 'control'] = grid.loc[grid.y == x, 'control'].rolling(smoothing, min_periods=1, center=True).mean()\n",
    "    plt.scatter(grid.x, grid.y, s=10, marker='s', c=grid.control, cmap='seismic', alpha=0.2);\n",
    "    plt.scatter(frame.x, frame.y, s=100, c=frame.bgcolor.values, edgecolors=frame.edgecolor);\n",
    "    plt.savefig(temp_file_name, bbox_inches='tight')\n",
    "    plt.clf()\n",
    "    image = imageio.imread(temp_file_name)\n",
    "    writer.append_data(image)"
   ]
  },
  {
   "cell_type": "code",
   "execution_count": 19,
   "metadata": {},
   "outputs": [
    {
     "name": "stderr",
     "output_type": "stream",
     "text": [
      "100%|██████████| 289/289 [07:48<00:00,  1.62s/it]\n"
     ]
    },
    {
     "data": {
      "text/plain": [
       "<Figure size 1512x979.2 with 0 Axes>"
      ]
     },
     "metadata": {},
     "output_type": "display_data"
    }
   ],
   "source": [
    "writer = imageio.get_writer('ronaldocalma_delayknn_2exp_distance.gif', mode='I')\n",
    "for frame_no in tqdm(df.frame.unique()):\n",
    "    frame = df[df.frame==frame_no].copy()\n",
    "\n",
    "    train_set = frame[~frame.team.isna()].copy()\n",
    "    train_set.team = (train_set.team == 'attack') * 2 - 1\n",
    "    train_set['x_1dx'] = train_set.x + 10 * train_set.dx\n",
    "    train_set['y_1dy'] = train_set.y + 10 * train_set.dy\n",
    "    train_set['x_2dx'] = train_set.x + 20 * train_set.dx\n",
    "    train_set['y_2dy'] = train_set.y + 20 * train_set.dy\n",
    "\n",
    "    delay_0_model.fit(train_set[['x','y']], train_set['team']);\n",
    "    delay_1_model.fit(train_set[['x_1dx','y_1dy']], train_set['team']);\n",
    "    delay_2_model.fit(train_set[['x_2dx','y_2dy']], train_set['team']);\n",
    "\n",
    "    grid['delay_0_control'] = delay_0_model.predict(grid[['x', 'y']])\n",
    "    grid['delay_1_control'] = delay_1_model.predict(grid[['x_1dx', 'y_1dy']])\n",
    "    grid['delay_2_control'] = delay_2_model.predict(grid[['x_2dx', 'y_2dy']])\n",
    "\n",
    "    distances, indices = delay_0_model.kneighbors(grid[['x', 'y']])\n",
    "    factor_d0 = np.exp(np.exp(1 - (distances[:,0] / 40)))\n",
    "    distances, indices = delay_1_model.kneighbors(grid[['x_1dx', 'y_1dy']])\n",
    "    factor_d1 = np.exp(np.exp(1 - (distances[:,0] / 40)))\n",
    "    distances, indices = delay_2_model.kneighbors(grid[['x_2dx', 'y_2dy']])\n",
    "    factor_d2 = np.exp(np.exp(1 - (distances[:,0] / 40)))\n",
    "\n",
    "    grid['control'] = grid['delay_0_control'] * factor_d0 + grid['delay_1_control'] * factor_d1 + grid['delay_2_control'] * factor_d2\n",
    "\n",
    "    draw.pitch(dpi=144)\n",
    "    for x in grid.x.unique():\n",
    "        grid.loc[grid.x == x, 'control'] = grid.loc[grid.x == x, 'control'].rolling(smoothing, min_periods=1, center=True).mean()\n",
    "        grid.loc[grid.y == x, 'control'] = grid.loc[grid.y == x, 'control'].rolling(smoothing, min_periods=1, center=True).mean()\n",
    "    plt.scatter(grid.x, grid.y, s=10, marker='s', c=grid.control, cmap='seismic', alpha=0.2);\n",
    "    plt.scatter(frame.x, frame.y, s=100, c=frame.bgcolor.values, edgecolors=frame.edgecolor);\n",
    "    plt.savefig(temp_file_name, bbox_inches='tight')\n",
    "    plt.clf()\n",
    "    image = imageio.imread(temp_file_name)\n",
    "    writer.append_data(image)"
   ]
  },
  {
   "cell_type": "code",
   "execution_count": 20,
   "metadata": {},
   "outputs": [
    {
     "name": "stderr",
     "output_type": "stream",
     "text": [
      "100%|██████████| 289/289 [07:46<00:00,  1.61s/it]\n"
     ]
    },
    {
     "data": {
      "text/plain": [
       "<Figure size 1512x979.2 with 0 Axes>"
      ]
     },
     "metadata": {},
     "output_type": "display_data"
    }
   ],
   "source": [
    "writer = imageio.get_writer('ronaldocalma_delayknn_3exp_distance.gif', mode='I')\n",
    "for frame_no in tqdm(df.frame.unique()):\n",
    "    frame = df[df.frame==frame_no].copy()\n",
    "\n",
    "    train_set = frame[~frame.team.isna()].copy()\n",
    "    train_set.team = (train_set.team == 'attack') * 2 - 1\n",
    "    train_set['x_1dx'] = train_set.x + 10 * train_set.dx\n",
    "    train_set['y_1dy'] = train_set.y + 10 * train_set.dy\n",
    "    train_set['x_2dx'] = train_set.x + 20 * train_set.dx\n",
    "    train_set['y_2dy'] = train_set.y + 20 * train_set.dy\n",
    "\n",
    "    delay_0_model.fit(train_set[['x','y']], train_set['team']);\n",
    "    delay_1_model.fit(train_set[['x_1dx','y_1dy']], train_set['team']);\n",
    "    delay_2_model.fit(train_set[['x_2dx','y_2dy']], train_set['team']);\n",
    "\n",
    "    grid['delay_0_control'] = delay_0_model.predict(grid[['x', 'y']])\n",
    "    grid['delay_1_control'] = delay_1_model.predict(grid[['x_1dx', 'y_1dy']])\n",
    "    grid['delay_2_control'] = delay_2_model.predict(grid[['x_2dx', 'y_2dy']])\n",
    "\n",
    "    distances, indices = delay_0_model.kneighbors(grid[['x', 'y']])\n",
    "    factor_d0 = np.exp(np.exp(np.exp(1 - (distances[:,0] / 40))))\n",
    "    distances, indices = delay_1_model.kneighbors(grid[['x_1dx', 'y_1dy']])\n",
    "    factor_d1 = np.exp(np.exp(np.exp(1 - (distances[:,0] / 40))))\n",
    "    distances, indices = delay_2_model.kneighbors(grid[['x_2dx', 'y_2dy']])\n",
    "    factor_d2 = np.exp(np.exp(np.exp(1 - (distances[:,0] / 40))))\n",
    "\n",
    "    grid['control'] = grid['delay_0_control'] * factor_d0 + grid['delay_1_control'] * factor_d1 + grid['delay_2_control'] * factor_d2\n",
    "\n",
    "    draw.pitch(dpi=144)\n",
    "    for x in grid.x.unique():\n",
    "        grid.loc[grid.x == x, 'control'] = grid.loc[grid.x == x, 'control'].rolling(smoothing, min_periods=1, center=True).mean()\n",
    "        grid.loc[grid.y == x, 'control'] = grid.loc[grid.y == x, 'control'].rolling(smoothing, min_periods=1, center=True).mean()\n",
    "    plt.scatter(grid.x, grid.y, s=10, marker='s', c=grid.control, cmap='seismic', alpha=0.2);\n",
    "    plt.scatter(frame.x, frame.y, s=100, c=frame.bgcolor.values, edgecolors=frame.edgecolor);\n",
    "    plt.savefig(temp_file_name, bbox_inches='tight')\n",
    "    plt.clf()\n",
    "    image = imageio.imread(temp_file_name)\n",
    "    writer.append_data(image)"
   ]
  }
 ],
 "metadata": {
  "kernelspec": {
   "display_name": "Python 3.8.10 64-bit",
   "language": "python",
   "name": "python3"
  },
  "language_info": {
   "codemirror_mode": {
    "name": "ipython",
    "version": 3
   },
   "file_extension": ".py",
   "mimetype": "text/x-python",
   "name": "python",
   "nbconvert_exporter": "python",
   "pygments_lexer": "ipython3",
   "version": "3.8.10"
  },
  "orig_nbformat": 4,
  "vscode": {
   "interpreter": {
    "hash": "e7370f93d1d0cde622a1f8e1c04877d8463912d04d973331ad4851f04de6915a"
   }
  }
 },
 "nbformat": 4,
 "nbformat_minor": 2
}
