{
 "cells": [
  {
   "cell_type": "code",
   "execution_count": 1,
   "metadata": {},
   "outputs": [],
   "source": [
    "import pandas as pd\n",
    "from lib.pitch_control import plot_pitch_control, KNNPitchControl, SpearmanPitchControl, FernandezPitchControl\n",
    "from lib.draw import pitch\n",
    "import matplotlib.pyplot as plt"
   ]
  },
  {
   "cell_type": "code",
   "execution_count": 2,
   "metadata": {},
   "outputs": [
    {
     "data": {
      "text/html": [
       "<div>\n",
       "<style scoped>\n",
       "    .dataframe tbody tr th:only-of-type {\n",
       "        vertical-align: middle;\n",
       "    }\n",
       "\n",
       "    .dataframe tbody tr th {\n",
       "        vertical-align: top;\n",
       "    }\n",
       "\n",
       "    .dataframe thead th {\n",
       "        text-align: right;\n",
       "    }\n",
       "</style>\n",
       "<table border=\"1\" class=\"dataframe\">\n",
       "  <thead>\n",
       "    <tr style=\"text-align: right;\">\n",
       "      <th></th>\n",
       "      <th>bgcolor</th>\n",
       "      <th>dx</th>\n",
       "      <th>dy</th>\n",
       "      <th>edgecolor</th>\n",
       "      <th>frame</th>\n",
       "      <th>play</th>\n",
       "      <th>player</th>\n",
       "      <th>player_num</th>\n",
       "      <th>team</th>\n",
       "      <th>x</th>\n",
       "      <th>y</th>\n",
       "      <th>z</th>\n",
       "      <th>coords</th>\n",
       "      <th>player_obj</th>\n",
       "      <th>num</th>\n",
       "      <th>name</th>\n",
       "      <th>play_id</th>\n",
       "    </tr>\n",
       "  </thead>\n",
       "  <tbody>\n",
       "    <tr>\n",
       "      <th>11062</th>\n",
       "      <td>red</td>\n",
       "      <td>-0.198284</td>\n",
       "      <td>-0.084448</td>\n",
       "      <td>black</td>\n",
       "      <td>130</td>\n",
       "      <td>Southampton 1 - [2] Liverpool</td>\n",
       "      <td>894</td>\n",
       "      <td>NaN</td>\n",
       "      <td>defense</td>\n",
       "      <td>45.179256</td>\n",
       "      <td>52.804794</td>\n",
       "      <td>0.0</td>\n",
       "      <td>NaN</td>\n",
       "      <td>NaN</td>\n",
       "      <td>NaN</td>\n",
       "      <td>NaN</td>\n",
       "      <td>19</td>\n",
       "    </tr>\n",
       "    <tr>\n",
       "      <th>48664</th>\n",
       "      <td>blue</td>\n",
       "      <td>0.073284</td>\n",
       "      <td>0.076763</td>\n",
       "      <td>white</td>\n",
       "      <td>153</td>\n",
       "      <td>Genk 0 - [3] Liverpool</td>\n",
       "      <td>10054</td>\n",
       "      <td>NaN</td>\n",
       "      <td>defense</td>\n",
       "      <td>59.749669</td>\n",
       "      <td>32.760363</td>\n",
       "      <td>0.0</td>\n",
       "      <td>NaN</td>\n",
       "      <td>NaN</td>\n",
       "      <td>NaN</td>\n",
       "      <td>NaN</td>\n",
       "      <td>4</td>\n",
       "    </tr>\n",
       "    <tr>\n",
       "      <th>41963</th>\n",
       "      <td>black</td>\n",
       "      <td>-0.142503</td>\n",
       "      <td>-0.093525</td>\n",
       "      <td>red</td>\n",
       "      <td>17</td>\n",
       "      <td>Liverpool [2] - 0 Salzburg</td>\n",
       "      <td>276</td>\n",
       "      <td>NaN</td>\n",
       "      <td>defense</td>\n",
       "      <td>30.869839</td>\n",
       "      <td>61.323840</td>\n",
       "      <td>0.0</td>\n",
       "      <td>NaN</td>\n",
       "      <td>NaN</td>\n",
       "      <td>NaN</td>\n",
       "      <td>NaN</td>\n",
       "      <td>12</td>\n",
       "    </tr>\n",
       "    <tr>\n",
       "      <th>47124</th>\n",
       "      <td>blue</td>\n",
       "      <td>0.248113</td>\n",
       "      <td>0.241368</td>\n",
       "      <td>white</td>\n",
       "      <td>77</td>\n",
       "      <td>Genk 0 - [3] Liverpool</td>\n",
       "      <td>1636</td>\n",
       "      <td>NaN</td>\n",
       "      <td>defense</td>\n",
       "      <td>68.106284</td>\n",
       "      <td>21.238928</td>\n",
       "      <td>0.0</td>\n",
       "      <td>NaN</td>\n",
       "      <td>NaN</td>\n",
       "      <td>NaN</td>\n",
       "      <td>NaN</td>\n",
       "      <td>4</td>\n",
       "    </tr>\n",
       "    <tr>\n",
       "      <th>55820</th>\n",
       "      <td>blue</td>\n",
       "      <td>-0.291693</td>\n",
       "      <td>-0.072978</td>\n",
       "      <td>white</td>\n",
       "      <td>165</td>\n",
       "      <td>Liverpool [1] - 0 Everton</td>\n",
       "      <td>9942</td>\n",
       "      <td>NaN</td>\n",
       "      <td>defense</td>\n",
       "      <td>24.561889</td>\n",
       "      <td>66.915165</td>\n",
       "      <td>0.0</td>\n",
       "      <td>NaN</td>\n",
       "      <td>NaN</td>\n",
       "      <td>NaN</td>\n",
       "      <td>NaN</td>\n",
       "      <td>6</td>\n",
       "    </tr>\n",
       "  </tbody>\n",
       "</table>\n",
       "</div>"
      ],
      "text/plain": [
       "      bgcolor        dx        dy edgecolor  frame  \\\n",
       "11062     red -0.198284 -0.084448     black    130   \n",
       "48664    blue  0.073284  0.076763     white    153   \n",
       "41963   black -0.142503 -0.093525       red     17   \n",
       "47124    blue  0.248113  0.241368     white     77   \n",
       "55820    blue -0.291693 -0.072978     white    165   \n",
       "\n",
       "                                play  player  player_num     team          x  \\\n",
       "11062  Southampton 1 - [2] Liverpool     894         NaN  defense  45.179256   \n",
       "48664         Genk 0 - [3] Liverpool   10054         NaN  defense  59.749669   \n",
       "41963     Liverpool [2] - 0 Salzburg     276         NaN  defense  30.869839   \n",
       "47124         Genk 0 - [3] Liverpool    1636         NaN  defense  68.106284   \n",
       "55820      Liverpool [1] - 0 Everton    9942         NaN  defense  24.561889   \n",
       "\n",
       "               y    z coords  player_obj  num  name  play_id  \n",
       "11062  52.804794  0.0    NaN         NaN  NaN   NaN       19  \n",
       "48664  32.760363  0.0    NaN         NaN  NaN   NaN        4  \n",
       "41963  61.323840  0.0    NaN         NaN  NaN   NaN       12  \n",
       "47124  21.238928  0.0    NaN         NaN  NaN   NaN        4  \n",
       "55820  66.915165  0.0    NaN         NaN  NaN   NaN        6  "
      ]
     },
     "execution_count": 2,
     "metadata": {},
     "output_type": "execute_result"
    }
   ],
   "source": [
    "df = pd.read_csv('data/all_goals.csv', low_memory=False)\n",
    "df.edgecolor.fillna('white', inplace=True)\n",
    "df.bgcolor.fillna('black', inplace=True)\n",
    "df.sample(5)"
   ]
  },
  {
   "cell_type": "code",
   "execution_count": 3,
   "metadata": {},
   "outputs": [],
   "source": [
    "game = df[df.play == 'Barcelona 1 - [2] Real Madrid']\n",
    "frame = game[game.frame == 132]"
   ]
  },
  {
   "cell_type": "code",
   "execution_count": 4,
   "metadata": {},
   "outputs": [],
   "source": [
    "pc_model = KNNPitchControl()\n",
    "control1 = pc_model.predict(frame)\n",
    "pc_model = KNNPitchControl(lags=[0], smoothing=8)\n",
    "control2 = pc_model.predict(frame)\n",
    "pc_model = KNNPitchControl(lags=[0], distance_basis=350)\n",
    "control25 = pc_model.predict(frame)\n",
    "pc_model = KNNPitchControl(lags=[0, 10, 25], smoothing=6)\n",
    "control3 = pc_model.predict(frame)\n",
    "pc_model = KNNPitchControl(lags=[0, 10, 25], smoothing=6, distance_basis=350)\n",
    "control4 = pc_model.predict(frame)\n",
    "pc_model = SpearmanPitchControl()\n",
    "control5 = pc_model.predict(frame)\n",
    "pc_model6 = FernandezPitchControl()\n",
    "control6 = pc_model6.predict(frame, game)"
   ]
  },
  {
   "cell_type": "code",
   "execution_count": 5,
   "metadata": {},
   "outputs": [
    {
     "data": {
      "text/plain": [
       "<Figure size 1260x816 with 0 Axes>"
      ]
     },
     "metadata": {},
     "output_type": "display_data"
    }
   ],
   "source": [
    "plot_pitch_control(frame, pc_model.grid, control1, modelname='KNN\\'s (Voronoi)', savefig='img/paper_ronaldo_knn_voronoi_diagram.pdf')\n",
    "plot_pitch_control(frame, pc_model.grid, control2, modelname='KNN\\'s (Voronoi with smoothing)', savefig='img/paper_ronaldo_knn_voronoi_diagram_with_smoothing.pdf')\n",
    "plot_pitch_control(frame, pc_model.grid, control25, modelname='KNN\\'s (Voronoi with effect of distance)', savefig='img/paper_ronaldo_knn_voronoi_diagram_with_eodistance.pdf')\n",
    "plot_pitch_control(frame, pc_model.grid, control3, modelname='KNN\\'s (Spearman)', savefig='img/paper_ronaldo_knn_spearman.pdf')\n",
    "plot_pitch_control(frame, pc_model.grid, control5, modelname='Spearman\\'s Pitch Control', savefig='img/paper_ronaldo_spearman_og.pdf')\n",
    "plot_pitch_control(frame, pc_model.grid, control4, modelname='KNN\\'s (Fernandez)', savefig='img/paper_ronaldo_knn_fernandez.pdf')\n",
    "plot_pitch_control(frame, pc_model.grid, control6, modelname='Fernandez\\'s Pitch Control', savefig='img/paper_ronaldo_fernandez_og.pdf');"
   ]
  },
  {
   "cell_type": "code",
   "execution_count": 6,
   "metadata": {},
   "outputs": [],
   "source": [
    "game = df[df.play == 'Liverpool [2] - 0 Porto']\n",
    "frame = game[game.frame == 120]"
   ]
  },
  {
   "cell_type": "code",
   "execution_count": 7,
   "metadata": {},
   "outputs": [],
   "source": [
    "pc_model = KNNPitchControl()\n",
    "control1 = pc_model.predict(frame)\n",
    "pc_model = KNNPitchControl(lags=[0], smoothing=8)\n",
    "control2 = pc_model.predict(frame)\n",
    "pc_model = KNNPitchControl(lags=[0], distance_basis=350)\n",
    "control25 = pc_model.predict(frame)\n",
    "pc_model = SpearmanPitchControl()\n",
    "control5 = pc_model.predict(frame)"
   ]
  },
  {
   "cell_type": "code",
   "execution_count": 8,
   "metadata": {},
   "outputs": [
    {
     "data": {
      "text/plain": [
       "<Figure size 1260x816 with 0 Axes>"
      ]
     },
     "metadata": {},
     "output_type": "display_data"
    }
   ],
   "source": [
    "plot_pitch_control(frame, pc_model.grid, control1, modelname='KNN\\'s (Voronoi)', savefig='img/paper_default_knn_voronoi_diagram.pdf')\n",
    "plot_pitch_control(frame, pc_model.grid, control2, modelname='KNN\\'s (Voronoi with smoothing)', savefig='img/paper_default_knn_voronoi_diagram_with_smoothing.pdf')\n",
    "plot_pitch_control(frame, pc_model.grid, control25, modelname='KNN\\'s (Voronoi with effect of distance)', savefig='img/paper_default_knn_voronoi_diagram_with_eodistance.pdf')\n",
    "plot_pitch_control(frame, pc_model.grid, control5, modelname='Spearman\\'s Pitch Control', savefig='img/paper_default_spearman_og.pdf')"
   ]
  },
  {
   "cell_type": "code",
   "execution_count": null,
   "metadata": {},
   "outputs": [],
   "source": []
  }
 ],
 "metadata": {
  "kernelspec": {
   "display_name": "Python 3.8.10 64-bit",
   "language": "python",
   "name": "python3"
  },
  "language_info": {
   "codemirror_mode": {
    "name": "ipython",
    "version": 3
   },
   "file_extension": ".py",
   "mimetype": "text/x-python",
   "name": "python",
   "nbconvert_exporter": "python",
   "pygments_lexer": "ipython3",
   "version": "3.8.10"
  },
  "orig_nbformat": 4,
  "vscode": {
   "interpreter": {
    "hash": "767d51c1340bd893661ea55ea3124f6de3c7a262a8b4abca0554b478b1e2ff90"
   }
  }
 },
 "nbformat": 4,
 "nbformat_minor": 2
}
