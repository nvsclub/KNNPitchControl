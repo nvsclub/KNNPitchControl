{
 "cells": [
  {
   "cell_type": "code",
   "execution_count": 1,
   "metadata": {},
   "outputs": [],
   "source": [
    "import pandas as pd\n",
    "from lib.pitch_control import plot_pitch_control, KNNPitchControl, SpearmanPitchControl, FernandezPitchControl\n",
    "from lib.draw import pitch\n",
    "import matplotlib.pyplot as plt\n",
    "from time import time\n",
    "from tqdm import tqdm"
   ]
  },
  {
   "cell_type": "code",
   "execution_count": 2,
   "metadata": {},
   "outputs": [
    {
     "data": {
      "text/html": [
       "<div>\n",
       "<style scoped>\n",
       "    .dataframe tbody tr th:only-of-type {\n",
       "        vertical-align: middle;\n",
       "    }\n",
       "\n",
       "    .dataframe tbody tr th {\n",
       "        vertical-align: top;\n",
       "    }\n",
       "\n",
       "    .dataframe thead th {\n",
       "        text-align: right;\n",
       "    }\n",
       "</style>\n",
       "<table border=\"1\" class=\"dataframe\">\n",
       "  <thead>\n",
       "    <tr style=\"text-align: right;\">\n",
       "      <th></th>\n",
       "      <th>bgcolor</th>\n",
       "      <th>dx</th>\n",
       "      <th>dy</th>\n",
       "      <th>edgecolor</th>\n",
       "      <th>frame</th>\n",
       "      <th>play</th>\n",
       "      <th>player</th>\n",
       "      <th>player_num</th>\n",
       "      <th>team</th>\n",
       "      <th>x</th>\n",
       "      <th>y</th>\n",
       "      <th>z</th>\n",
       "      <th>coords</th>\n",
       "      <th>player_obj</th>\n",
       "      <th>num</th>\n",
       "      <th>name</th>\n",
       "      <th>play_id</th>\n",
       "    </tr>\n",
       "  </thead>\n",
       "  <tbody>\n",
       "    <tr>\n",
       "      <th>52774</th>\n",
       "      <td>red</td>\n",
       "      <td>-0.057776</td>\n",
       "      <td>-0.068222</td>\n",
       "      <td>white</td>\n",
       "      <td>143</td>\n",
       "      <td>Liverpool [2] - 0 Man City</td>\n",
       "      <td>4166</td>\n",
       "      <td>NaN</td>\n",
       "      <td>attack</td>\n",
       "      <td>66.357278</td>\n",
       "      <td>70.803731</td>\n",
       "      <td>0.0</td>\n",
       "      <td>NaN</td>\n",
       "      <td>NaN</td>\n",
       "      <td>NaN</td>\n",
       "      <td>NaN</td>\n",
       "      <td>10</td>\n",
       "    </tr>\n",
       "    <tr>\n",
       "      <th>27960</th>\n",
       "      <td>red</td>\n",
       "      <td>0.081414</td>\n",
       "      <td>0.006335</td>\n",
       "      <td>white</td>\n",
       "      <td>18</td>\n",
       "      <td>Liverpool [4] - 0 Barcelona</td>\n",
       "      <td>24770</td>\n",
       "      <td>NaN</td>\n",
       "      <td>attack</td>\n",
       "      <td>66.314779</td>\n",
       "      <td>45.050894</td>\n",
       "      <td>0.0</td>\n",
       "      <td>NaN</td>\n",
       "      <td>NaN</td>\n",
       "      <td>NaN</td>\n",
       "      <td>NaN</td>\n",
       "      <td>17</td>\n",
       "    </tr>\n",
       "    <tr>\n",
       "      <th>22525</th>\n",
       "      <td>blue</td>\n",
       "      <td>-0.010824</td>\n",
       "      <td>0.006705</td>\n",
       "      <td>white</td>\n",
       "      <td>169</td>\n",
       "      <td>Porto 0 - [2] Liverpool</td>\n",
       "      <td>9872</td>\n",
       "      <td>NaN</td>\n",
       "      <td>defense</td>\n",
       "      <td>7.500641</td>\n",
       "      <td>46.208779</td>\n",
       "      <td>0.0</td>\n",
       "      <td>NaN</td>\n",
       "      <td>NaN</td>\n",
       "      <td>NaN</td>\n",
       "      <td>NaN</td>\n",
       "      <td>18</td>\n",
       "    </tr>\n",
       "    <tr>\n",
       "      <th>41021</th>\n",
       "      <td>red</td>\n",
       "      <td>0.000000</td>\n",
       "      <td>0.000000</td>\n",
       "      <td>white</td>\n",
       "      <td>53</td>\n",
       "      <td>Liverpool [2] - 1 Newcastle</td>\n",
       "      <td>15620</td>\n",
       "      <td>NaN</td>\n",
       "      <td>attack</td>\n",
       "      <td>49.931973</td>\n",
       "      <td>47.478992</td>\n",
       "      <td>0.0</td>\n",
       "      <td>NaN</td>\n",
       "      <td>NaN</td>\n",
       "      <td>NaN</td>\n",
       "      <td>NaN</td>\n",
       "      <td>14</td>\n",
       "    </tr>\n",
       "    <tr>\n",
       "      <th>6894</th>\n",
       "      <td>red</td>\n",
       "      <td>-0.063066</td>\n",
       "      <td>0.417615</td>\n",
       "      <td>white</td>\n",
       "      <td>136</td>\n",
       "      <td>Fulham 0 - [1] Liverpool</td>\n",
       "      <td>15</td>\n",
       "      <td>10.0</td>\n",
       "      <td>attack</td>\n",
       "      <td>9.107561</td>\n",
       "      <td>29.706459</td>\n",
       "      <td>0.0</td>\n",
       "      <td>NaN</td>\n",
       "      <td>NaN</td>\n",
       "      <td>NaN</td>\n",
       "      <td>NaN</td>\n",
       "      <td>3</td>\n",
       "    </tr>\n",
       "  </tbody>\n",
       "</table>\n",
       "</div>"
      ],
      "text/plain": [
       "      bgcolor        dx        dy edgecolor  frame  \\\n",
       "52774     red -0.057776 -0.068222     white    143   \n",
       "27960     red  0.081414  0.006335     white     18   \n",
       "22525    blue -0.010824  0.006705     white    169   \n",
       "41021     red  0.000000  0.000000     white     53   \n",
       "6894      red -0.063066  0.417615     white    136   \n",
       "\n",
       "                              play  player  player_num     team          x  \\\n",
       "52774   Liverpool [2] - 0 Man City    4166         NaN   attack  66.357278   \n",
       "27960  Liverpool [4] - 0 Barcelona   24770         NaN   attack  66.314779   \n",
       "22525      Porto 0 - [2] Liverpool    9872         NaN  defense   7.500641   \n",
       "41021  Liverpool [2] - 1 Newcastle   15620         NaN   attack  49.931973   \n",
       "6894      Fulham 0 - [1] Liverpool      15        10.0   attack   9.107561   \n",
       "\n",
       "               y    z coords  player_obj  num  name  play_id  \n",
       "52774  70.803731  0.0    NaN         NaN  NaN   NaN       10  \n",
       "27960  45.050894  0.0    NaN         NaN  NaN   NaN       17  \n",
       "22525  46.208779  0.0    NaN         NaN  NaN   NaN       18  \n",
       "41021  47.478992  0.0    NaN         NaN  NaN   NaN       14  \n",
       "6894   29.706459  0.0    NaN         NaN  NaN   NaN        3  "
      ]
     },
     "execution_count": 2,
     "metadata": {},
     "output_type": "execute_result"
    }
   ],
   "source": [
    "df = pd.read_csv('data/all_goals.csv', low_memory=False)\n",
    "df.edgecolor.fillna('white', inplace=True)\n",
    "df.bgcolor.fillna('black', inplace=True)\n",
    "df.sample(5)"
   ]
  },
  {
   "cell_type": "code",
   "execution_count": 3,
   "metadata": {},
   "outputs": [
    {
     "data": {
      "text/plain": [
       "array(['Liverpool [3] - 0 Bournemouth', 'Bayern 0 - [1] Liverpool',\n",
       "       'Fulham 0 - [1] Liverpool', 'Southampton 1 - [2] Liverpool',\n",
       "       'Liverpool [2] - 0 Porto', 'Porto 0 - [2] Liverpool',\n",
       "       'Liverpool [4] - 0 Barcelona', 'Liverpool [1] - 0 Wolves',\n",
       "       'Liverpool [3] - 0 Norwich', 'Liverpool [2] - 1 Chelsea',\n",
       "       'Liverpool [2] - 1 Newcastle', 'Liverpool [2] - 0 Salzburg',\n",
       "       'Genk 0 - [3] Liverpool', 'Liverpool [2] - 0 Man City',\n",
       "       'Liverpool [1] - 0 Everton', 'Liverpool [2] - 0 Everton',\n",
       "       'Bournemouth 0 - 3 Liverpool', 'Liverpool [1] - 0 Watford',\n",
       "       'Leicester 0 - [3] Liverpool', 'Barcelona 1 - [2] Real Madrid'],\n",
       "      dtype=object)"
      ]
     },
     "execution_count": 3,
     "metadata": {},
     "output_type": "execute_result"
    }
   ],
   "source": [
    "df.play.unique()"
   ]
  },
  {
   "cell_type": "code",
   "execution_count": 4,
   "metadata": {},
   "outputs": [],
   "source": [
    "knn_pitch_control_voronoi = KNNPitchControl()\n",
    "knn_pitch_control_spearman = KNNPitchControl(lags=[0, 10, 20], smoothing=8)\n",
    "knn_pitch_control_fernandez = KNNPitchControl(lags=[0, 10, 20], smoothing=6, distance_basis=250)\n",
    "spearman_pitch_control = SpearmanPitchControl()\n",
    "fernandez_pitch_control = FernandezPitchControl()"
   ]
  },
  {
   "cell_type": "code",
   "execution_count": 5,
   "metadata": {},
   "outputs": [],
   "source": [
    "# Initialize results file\n",
    "import os\n",
    "results_file_path = 'res/results.csv'\n",
    "grids_file_path = 'res/grids.csv'\n",
    "if os.path.isfile(results_file_path):\n",
    "    df_results = pd.read_csv(results_file_path)\n",
    "    csv_results = open(results_file_path, 'a')\n",
    "    csv_grids = open(grids_file_path, 'a')\n",
    "else:\n",
    "    df_results = pd.DataFrame(columns='play_frame_id')\n",
    "    csv_results = open(results_file_path, 'w')\n",
    "    csv_results.write('play_frame_id,model,play,frame,inference_time\\n')\n",
    "    csv_grids = open(grids_file_path, 'w')\n",
    "    csv_grids.write('play_frame_id,model_name' + ''.join(map(lambda x: x, [f',c{i}' for i in range(7314)])) + '\\n')"
   ]
  },
  {
   "cell_type": "code",
   "execution_count": 6,
   "metadata": {},
   "outputs": [],
   "source": [
    "def close_and_reopen_file(csv, filename):\n",
    "    csv.close()\n",
    "    return open(filename, 'a')"
   ]
  },
  {
   "cell_type": "code",
   "execution_count": 7,
   "metadata": {},
   "outputs": [],
   "source": [
    "def run_model(csv_results, csv_grids, model, model_name, play_frame_id, df_frame, df_play=None):\n",
    "    t0 = time()\n",
    "    if df_play is None:\n",
    "        model.grid['control'] = model.predict(df_frame).round(2)\n",
    "    else:\n",
    "        model.grid['control'] = model.predict(df_frame, df_play).round(2)\n",
    "    inference_time = time() - t0\n",
    "    \n",
    "    model.grid['play_frame_id'] = play_frame_id\n",
    "    model.grid['model'] = model_name\n",
    "    \n",
    "    csv_results.write(f'{play_frame_id},{model_name},{play},{frame_no},{inference_time}\\n')\n",
    "    csv_grids.write(f'{play_frame_id},{model_name}' + ''.join(map(lambda x: x, [f',{i}' for i in model.grid['control'].tolist()])) + '\\n')"
   ]
  },
  {
   "cell_type": "code",
   "execution_count": 8,
   "metadata": {},
   "outputs": [
    {
     "name": "stderr",
     "output_type": "stream",
     "text": [
      "100%|██████████| 195/195 [00:00<00:00, 13747.66it/s]\n",
      "100%|██████████| 257/257 [00:00<00:00, 14577.14it/s]\n",
      "100%|██████████| 289/289 [00:00<00:00, 14524.99it/s]"
     ]
    },
    {
     "name": "stdout",
     "output_type": "stream",
     "text": [
      "Liverpool [2] - 0 Porto\n",
      "Porto 0 - [2] Liverpool\n",
      "Barcelona 1 - [2] Real Madrid\n"
     ]
    },
    {
     "name": "stderr",
     "output_type": "stream",
     "text": [
      "\n"
     ]
    }
   ],
   "source": [
    "play_frame_id = 0\n",
    "for play in df.play.unique()[[4, 5, -1]]:\n",
    "    print(play)\n",
    "    df_play = df[df.play == play]\n",
    "    for frame_no in tqdm(df_play.frame.unique()):\n",
    "        play_frame_id += 1\n",
    "        if play_frame_id in df_results.play_frame_id.unique():\n",
    "            continue\n",
    "\n",
    "        df_frame = df_play[df_play.frame == frame_no]\n",
    "        \n",
    "        run_model(csv_results, csv_grids, knn_pitch_control_voronoi, 'KNN (Voronoi)', play_frame_id, df_frame)\n",
    "        run_model(csv_results, csv_grids, knn_pitch_control_spearman, 'KNN (Spearman)', play_frame_id, df_frame)\n",
    "        run_model(csv_results, csv_grids, knn_pitch_control_fernandez, 'KNN (Fernandez)', play_frame_id, df_frame)\n",
    "        run_model(csv_results, csv_grids, spearman_pitch_control, 'Spearman Pitch Control', play_frame_id, df_frame)\n",
    "        run_model(csv_results, csv_grids, fernandez_pitch_control, 'Fernandez Pitch Control', play_frame_id, df_frame, df_play)\n",
    "\n",
    "        csv_results = close_and_reopen_file(csv_results, results_file_path)\n",
    "        csv_grids = close_and_reopen_file(csv_grids, grids_file_path)"
   ]
  },
  {
   "cell_type": "markdown",
   "metadata": {},
   "source": [
    "# Run Individual Models"
   ]
  },
  {
   "cell_type": "code",
   "execution_count": 9,
   "metadata": {},
   "outputs": [],
   "source": [
    "knn_pitch_control_spearman_doublesmooth = KNNPitchControl(lags=[0, 10, 20], smoothing=[8, 10])"
   ]
  },
  {
   "cell_type": "code",
   "execution_count": 10,
   "metadata": {},
   "outputs": [
    {
     "name": "stderr",
     "output_type": "stream",
     "text": [
      "  0%|          | 0/195 [00:00<?, ?it/s]"
     ]
    },
    {
     "name": "stdout",
     "output_type": "stream",
     "text": [
      "Liverpool [2] - 0 Porto\n"
     ]
    },
    {
     "name": "stderr",
     "output_type": "stream",
     "text": [
      "100%|██████████| 195/195 [02:12<00:00,  1.48it/s]\n",
      "  0%|          | 0/257 [00:00<?, ?it/s]"
     ]
    },
    {
     "name": "stdout",
     "output_type": "stream",
     "text": [
      "Porto 0 - [2] Liverpool\n"
     ]
    },
    {
     "name": "stderr",
     "output_type": "stream",
     "text": [
      "100%|██████████| 257/257 [02:51<00:00,  1.50it/s]\n",
      "  0%|          | 0/289 [00:00<?, ?it/s]"
     ]
    },
    {
     "name": "stdout",
     "output_type": "stream",
     "text": [
      "Barcelona 1 - [2] Real Madrid\n"
     ]
    },
    {
     "name": "stderr",
     "output_type": "stream",
     "text": [
      "100%|██████████| 289/289 [03:20<00:00,  1.44it/s]\n"
     ]
    }
   ],
   "source": [
    "for play in df.play.unique()[[4, 5, -1]]:\n",
    "    print(play)\n",
    "    df_play = df[df.play == play]\n",
    "    for frame_no in tqdm(df_play.frame.unique()):\n",
    "        play_frame_id += 1\n",
    "\n",
    "        df_frame = df_play[df_play.frame == frame_no]\n",
    "        \n",
    "        run_model(csv_results, csv_grids, knn_pitch_control_spearman_doublesmooth, 'KNN (Spearman 2 Smooth)', play_frame_id, df_frame)\n",
    "\n",
    "        csv_results = close_and_reopen_file(csv_results, results_file_path)\n",
    "        csv_grids = close_and_reopen_file(csv_grids, grids_file_path)"
   ]
  }
 ],
 "metadata": {
  "kernelspec": {
   "display_name": "Python 3.8.10 64-bit",
   "language": "python",
   "name": "python3"
  },
  "language_info": {
   "codemirror_mode": {
    "name": "ipython",
    "version": 3
   },
   "file_extension": ".py",
   "mimetype": "text/x-python",
   "name": "python",
   "nbconvert_exporter": "python",
   "pygments_lexer": "ipython3",
   "version": "3.8.10"
  },
  "orig_nbformat": 4,
  "vscode": {
   "interpreter": {
    "hash": "e7370f93d1d0cde622a1f8e1c04877d8463912d04d973331ad4851f04de6915a"
   }
  }
 },
 "nbformat": 4,
 "nbformat_minor": 2
}
