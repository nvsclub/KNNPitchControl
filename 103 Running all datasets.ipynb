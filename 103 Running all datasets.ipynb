{
 "cells": [
  {
   "cell_type": "code",
   "execution_count": 1,
   "metadata": {},
   "outputs": [],
   "source": [
    "import pandas as pd\n",
    "from lib.pitch_control import plot_pitch_control, KNNPitchControl, SpearmanPitchControl, FernandezPitchControl\n",
    "from lib.draw import pitch\n",
    "import matplotlib.pyplot as plt\n",
    "from time import time\n",
    "from tqdm import tqdm"
   ]
  },
  {
   "cell_type": "code",
   "execution_count": 2,
   "metadata": {},
   "outputs": [
    {
     "data": {
      "text/html": [
       "<div>\n",
       "<style scoped>\n",
       "    .dataframe tbody tr th:only-of-type {\n",
       "        vertical-align: middle;\n",
       "    }\n",
       "\n",
       "    .dataframe tbody tr th {\n",
       "        vertical-align: top;\n",
       "    }\n",
       "\n",
       "    .dataframe thead th {\n",
       "        text-align: right;\n",
       "    }\n",
       "</style>\n",
       "<table border=\"1\" class=\"dataframe\">\n",
       "  <thead>\n",
       "    <tr style=\"text-align: right;\">\n",
       "      <th></th>\n",
       "      <th>bgcolor</th>\n",
       "      <th>dx</th>\n",
       "      <th>dy</th>\n",
       "      <th>edgecolor</th>\n",
       "      <th>frame</th>\n",
       "      <th>play</th>\n",
       "      <th>player</th>\n",
       "      <th>player_num</th>\n",
       "      <th>team</th>\n",
       "      <th>x</th>\n",
       "      <th>y</th>\n",
       "      <th>z</th>\n",
       "      <th>coords</th>\n",
       "      <th>player_obj</th>\n",
       "      <th>num</th>\n",
       "      <th>name</th>\n",
       "      <th>play_id</th>\n",
       "    </tr>\n",
       "  </thead>\n",
       "  <tbody>\n",
       "    <tr>\n",
       "      <th>43737</th>\n",
       "      <td>red</td>\n",
       "      <td>-0.092968</td>\n",
       "      <td>0.101735</td>\n",
       "      <td>white</td>\n",
       "      <td>72</td>\n",
       "      <td>Liverpool [2] - 0 Salzburg</td>\n",
       "      <td>5050</td>\n",
       "      <td>10.0</td>\n",
       "      <td>attack</td>\n",
       "      <td>39.644576</td>\n",
       "      <td>34.977421</td>\n",
       "      <td>0.0</td>\n",
       "      <td>NaN</td>\n",
       "      <td>NaN</td>\n",
       "      <td>NaN</td>\n",
       "      <td>NaN</td>\n",
       "      <td>12</td>\n",
       "    </tr>\n",
       "    <tr>\n",
       "      <th>65674</th>\n",
       "      <td>darkred</td>\n",
       "      <td>-0.110462</td>\n",
       "      <td>-0.000057</td>\n",
       "      <td>black</td>\n",
       "      <td>148</td>\n",
       "      <td>Bournemouth 0 - 3 Liverpool</td>\n",
       "      <td>12087</td>\n",
       "      <td>NaN</td>\n",
       "      <td>defense</td>\n",
       "      <td>17.460213</td>\n",
       "      <td>45.818722</td>\n",
       "      <td>0.0</td>\n",
       "      <td>NaN</td>\n",
       "      <td>NaN</td>\n",
       "      <td>NaN</td>\n",
       "      <td>NaN</td>\n",
       "      <td>2</td>\n",
       "    </tr>\n",
       "    <tr>\n",
       "      <th>60568</th>\n",
       "      <td>blue</td>\n",
       "      <td>-0.340664</td>\n",
       "      <td>-0.107330</td>\n",
       "      <td>white</td>\n",
       "      <td>141</td>\n",
       "      <td>Liverpool [2] - 0 Everton</td>\n",
       "      <td>11936</td>\n",
       "      <td>NaN</td>\n",
       "      <td>defense</td>\n",
       "      <td>27.500474</td>\n",
       "      <td>21.028281</td>\n",
       "      <td>0.0</td>\n",
       "      <td>NaN</td>\n",
       "      <td>NaN</td>\n",
       "      <td>NaN</td>\n",
       "      <td>NaN</td>\n",
       "      <td>9</td>\n",
       "    </tr>\n",
       "    <tr>\n",
       "      <th>69895</th>\n",
       "      <td>yellow</td>\n",
       "      <td>-0.272864</td>\n",
       "      <td>-0.069455</td>\n",
       "      <td>black</td>\n",
       "      <td>184</td>\n",
       "      <td>Liverpool [1] - 0 Watford</td>\n",
       "      <td>10098</td>\n",
       "      <td>NaN</td>\n",
       "      <td>defense</td>\n",
       "      <td>24.774833</td>\n",
       "      <td>33.745271</td>\n",
       "      <td>0.0</td>\n",
       "      <td>NaN</td>\n",
       "      <td>NaN</td>\n",
       "      <td>NaN</td>\n",
       "      <td>NaN</td>\n",
       "      <td>7</td>\n",
       "    </tr>\n",
       "    <tr>\n",
       "      <th>59900</th>\n",
       "      <td>red</td>\n",
       "      <td>-0.180742</td>\n",
       "      <td>0.042659</td>\n",
       "      <td>white</td>\n",
       "      <td>47</td>\n",
       "      <td>Liverpool [2] - 0 Everton</td>\n",
       "      <td>2131</td>\n",
       "      <td>NaN</td>\n",
       "      <td>attack</td>\n",
       "      <td>80.943165</td>\n",
       "      <td>69.480600</td>\n",
       "      <td>0.0</td>\n",
       "      <td>NaN</td>\n",
       "      <td>NaN</td>\n",
       "      <td>NaN</td>\n",
       "      <td>NaN</td>\n",
       "      <td>9</td>\n",
       "    </tr>\n",
       "  </tbody>\n",
       "</table>\n",
       "</div>"
      ],
      "text/plain": [
       "       bgcolor        dx        dy edgecolor  frame  \\\n",
       "43737      red -0.092968  0.101735     white     72   \n",
       "65674  darkred -0.110462 -0.000057     black    148   \n",
       "60568     blue -0.340664 -0.107330     white    141   \n",
       "69895   yellow -0.272864 -0.069455     black    184   \n",
       "59900      red -0.180742  0.042659     white     47   \n",
       "\n",
       "                              play  player  player_num     team          x  \\\n",
       "43737   Liverpool [2] - 0 Salzburg    5050        10.0   attack  39.644576   \n",
       "65674  Bournemouth 0 - 3 Liverpool   12087         NaN  defense  17.460213   \n",
       "60568    Liverpool [2] - 0 Everton   11936         NaN  defense  27.500474   \n",
       "69895    Liverpool [1] - 0 Watford   10098         NaN  defense  24.774833   \n",
       "59900    Liverpool [2] - 0 Everton    2131         NaN   attack  80.943165   \n",
       "\n",
       "               y    z coords  player_obj  num  name  play_id  \n",
       "43737  34.977421  0.0    NaN         NaN  NaN   NaN       12  \n",
       "65674  45.818722  0.0    NaN         NaN  NaN   NaN        2  \n",
       "60568  21.028281  0.0    NaN         NaN  NaN   NaN        9  \n",
       "69895  33.745271  0.0    NaN         NaN  NaN   NaN        7  \n",
       "59900  69.480600  0.0    NaN         NaN  NaN   NaN        9  "
      ]
     },
     "execution_count": 2,
     "metadata": {},
     "output_type": "execute_result"
    }
   ],
   "source": [
    "df = pd.read_csv('data/all_goals.csv', low_memory=False)\n",
    "df.edgecolor.fillna('white', inplace=True)\n",
    "df.bgcolor.fillna('black', inplace=True)\n",
    "df.sample(5)"
   ]
  },
  {
   "cell_type": "code",
   "execution_count": 3,
   "metadata": {},
   "outputs": [
    {
     "data": {
      "text/plain": [
       "array(['Liverpool [3] - 0 Bournemouth', 'Bayern 0 - [1] Liverpool',\n",
       "       'Fulham 0 - [1] Liverpool', 'Southampton 1 - [2] Liverpool',\n",
       "       'Liverpool [2] - 0 Porto', 'Porto 0 - [2] Liverpool',\n",
       "       'Liverpool [4] - 0 Barcelona', 'Liverpool [1] - 0 Wolves',\n",
       "       'Liverpool [3] - 0 Norwich', 'Liverpool [2] - 1 Chelsea',\n",
       "       'Liverpool [2] - 1 Newcastle', 'Liverpool [2] - 0 Salzburg',\n",
       "       'Genk 0 - [3] Liverpool', 'Liverpool [2] - 0 Man City',\n",
       "       'Liverpool [1] - 0 Everton', 'Liverpool [2] - 0 Everton',\n",
       "       'Bournemouth 0 - 3 Liverpool', 'Liverpool [1] - 0 Watford',\n",
       "       'Leicester 0 - [3] Liverpool', 'Barcelona 1 - [2] Real Madrid'],\n",
       "      dtype=object)"
      ]
     },
     "execution_count": 3,
     "metadata": {},
     "output_type": "execute_result"
    }
   ],
   "source": [
    "df.play.unique()"
   ]
  },
  {
   "cell_type": "code",
   "execution_count": 4,
   "metadata": {},
   "outputs": [],
   "source": [
    "knn_pitch_control_voronoi = KNNPitchControl()\n",
    "knn_pitch_control_spearman = KNNPitchControl(lags=[0, 10, 20], smoothing=8)\n",
    "knn_pitch_control_fernandez = KNNPitchControl(lags=[0, 10, 20], smoothing=6, distance_basis=250)\n",
    "spearman_pitch_control = SpearmanPitchControl()\n",
    "fernandez_pitch_control = FernandezPitchControl()"
   ]
  },
  {
   "cell_type": "code",
   "execution_count": 5,
   "metadata": {},
   "outputs": [],
   "source": [
    "# Initialize results file\n",
    "import os\n",
    "results_file_path = 'res/results.csv'\n",
    "grids_file_path = 'res/grids.csv'\n",
    "if os.path.isfile(results_file_path):\n",
    "    df_results = pd.read_csv(results_file_path)\n",
    "    csv_results = open(results_file_path, 'a')\n",
    "    csv_grids = open(grids_file_path, 'a')\n",
    "else:\n",
    "    df_results = pd.DataFrame(columns=['play_frame_id'])\n",
    "    csv_results = open(results_file_path, 'w')\n",
    "    csv_results.write('play_frame_id,model,play,frame,inference_time\\n')\n",
    "    csv_grids = open(grids_file_path, 'w')\n",
    "    csv_grids.write('play_frame_id,model_name' + ''.join(map(lambda x: x, [f',c{i}' for i in range(7314)])) + '\\n')"
   ]
  },
  {
   "cell_type": "code",
   "execution_count": 6,
   "metadata": {},
   "outputs": [],
   "source": [
    "def close_and_reopen_file(csv, filename):\n",
    "    csv.close()\n",
    "    return open(filename, 'a')"
   ]
  },
  {
   "cell_type": "code",
   "execution_count": 7,
   "metadata": {},
   "outputs": [],
   "source": [
    "def run_model(csv_results, csv_grids, model, model_name, play_frame_id, df_frame, df_play=None):\n",
    "    t0 = time()\n",
    "    if df_play is None:\n",
    "        model.grid['control'] = model.predict(df_frame).round(2)\n",
    "    else:\n",
    "        model.grid['control'] = model.predict(df_frame, df_play).round(2)\n",
    "    inference_time = time() - t0\n",
    "    \n",
    "    model.grid['play_frame_id'] = play_frame_id\n",
    "    model.grid['model'] = model_name\n",
    "    \n",
    "    csv_results.write(f'{play_frame_id},{model_name},{play},{frame_no},{inference_time}\\n')\n",
    "    csv_grids.write(f'{play_frame_id},{model_name}' + ''.join(map(lambda x: x, [f',{i}' for i in model.grid['control'].tolist()])) + '\\n')"
   ]
  },
  {
   "cell_type": "code",
   "execution_count": 8,
   "metadata": {},
   "outputs": [
    {
     "name": "stderr",
     "output_type": "stream",
     "text": [
      "100%|██████████| 195/195 [00:00<00:00, 9768.52it/s]\n",
      "  0%|          | 0/257 [00:00<?, ?it/s]"
     ]
    },
    {
     "name": "stdout",
     "output_type": "stream",
     "text": [
      "Liverpool [2] - 0 Porto\n",
      "Porto 0 - [2] Liverpool\n"
     ]
    },
    {
     "name": "stderr",
     "output_type": "stream",
     "text": [
      " 75%|███████▌  | 193/257 [02:12<02:03,  1.93s/it]/home/liaad/Desktop/KNNPitchControl/lib/pitch_control.py:387: RuntimeWarning: overflow encountered in exp\n",
      "  self.grid['control'] = 1 - (1 / (1 + np.exp(-Za + Zh))).flatten()\n",
      " 75%|███████▌  | 194/257 [02:35<02:54,  2.77s/it]/home/liaad/Desktop/KNNPitchControl/lib/pitch_control.py:387: RuntimeWarning: overflow encountered in exp\n",
      "  self.grid['control'] = 1 - (1 / (1 + np.exp(-Za + Zh))).flatten()\n",
      " 76%|███████▌  | 195/257 [02:57<03:57,  3.83s/it]/home/liaad/Desktop/KNNPitchControl/lib/pitch_control.py:387: RuntimeWarning: overflow encountered in exp\n",
      "  self.grid['control'] = 1 - (1 / (1 + np.exp(-Za + Zh))).flatten()\n",
      " 76%|███████▋  | 196/257 [03:20<05:14,  5.15s/it]/home/liaad/Desktop/KNNPitchControl/lib/pitch_control.py:387: RuntimeWarning: overflow encountered in exp\n",
      "  self.grid['control'] = 1 - (1 / (1 + np.exp(-Za + Zh))).flatten()\n",
      " 77%|███████▋  | 197/257 [03:40<06:33,  6.56s/it]/home/liaad/Desktop/KNNPitchControl/lib/pitch_control.py:387: RuntimeWarning: overflow encountered in exp\n",
      "  self.grid['control'] = 1 - (1 / (1 + np.exp(-Za + Zh))).flatten()\n",
      " 77%|███████▋  | 198/257 [04:00<08:01,  8.17s/it]/home/liaad/Desktop/KNNPitchControl/lib/pitch_control.py:387: RuntimeWarning: overflow encountered in exp\n",
      "  self.grid['control'] = 1 - (1 / (1 + np.exp(-Za + Zh))).flatten()\n",
      " 77%|███████▋  | 199/257 [04:21<09:37,  9.96s/it]/home/liaad/Desktop/KNNPitchControl/lib/pitch_control.py:387: RuntimeWarning: overflow encountered in exp\n",
      "  self.grid['control'] = 1 - (1 / (1 + np.exp(-Za + Zh))).flatten()\n",
      " 78%|███████▊  | 200/257 [04:45<11:39, 12.28s/it]/home/liaad/Desktop/KNNPitchControl/lib/pitch_control.py:387: RuntimeWarning: overflow encountered in exp\n",
      "  self.grid['control'] = 1 - (1 / (1 + np.exp(-Za + Zh))).flatten()\n",
      " 78%|███████▊  | 201/257 [05:00<12:00, 12.87s/it]/home/liaad/Desktop/KNNPitchControl/lib/pitch_control.py:387: RuntimeWarning: overflow encountered in exp\n",
      "  self.grid['control'] = 1 - (1 / (1 + np.exp(-Za + Zh))).flatten()\n",
      " 79%|███████▊  | 202/257 [05:14<12:04, 13.18s/it]/home/liaad/Desktop/KNNPitchControl/lib/pitch_control.py:387: RuntimeWarning: overflow encountered in exp\n",
      "  self.grid['control'] = 1 - (1 / (1 + np.exp(-Za + Zh))).flatten()\n",
      " 79%|███████▉  | 203/257 [05:28<12:04, 13.42s/it]/home/liaad/Desktop/KNNPitchControl/lib/pitch_control.py:387: RuntimeWarning: overflow encountered in exp\n",
      "  self.grid['control'] = 1 - (1 / (1 + np.exp(-Za + Zh))).flatten()\n",
      " 79%|███████▉  | 204/257 [05:42<12:01, 13.61s/it]/home/liaad/Desktop/KNNPitchControl/lib/pitch_control.py:387: RuntimeWarning: overflow encountered in exp\n",
      "  self.grid['control'] = 1 - (1 / (1 + np.exp(-Za + Zh))).flatten()\n",
      " 80%|███████▉  | 205/257 [05:57<11:56, 13.77s/it]/home/liaad/Desktop/KNNPitchControl/lib/pitch_control.py:387: RuntimeWarning: overflow encountered in exp\n",
      "  self.grid['control'] = 1 - (1 / (1 + np.exp(-Za + Zh))).flatten()\n",
      " 80%|████████  | 206/257 [06:11<11:46, 13.86s/it]/home/liaad/Desktop/KNNPitchControl/lib/pitch_control.py:387: RuntimeWarning: overflow encountered in exp\n",
      "  self.grid['control'] = 1 - (1 / (1 + np.exp(-Za + Zh))).flatten()\n",
      " 81%|████████  | 207/257 [06:25<11:35, 13.91s/it]/home/liaad/Desktop/KNNPitchControl/lib/pitch_control.py:387: RuntimeWarning: overflow encountered in exp\n",
      "  self.grid['control'] = 1 - (1 / (1 + np.exp(-Za + Zh))).flatten()\n",
      " 81%|████████  | 208/257 [06:39<11:23, 13.95s/it]/home/liaad/Desktop/KNNPitchControl/lib/pitch_control.py:387: RuntimeWarning: overflow encountered in exp\n",
      "  self.grid['control'] = 1 - (1 / (1 + np.exp(-Za + Zh))).flatten()\n",
      " 81%|████████▏ | 209/257 [06:53<11:09, 13.96s/it]/home/liaad/Desktop/KNNPitchControl/lib/pitch_control.py:387: RuntimeWarning: overflow encountered in exp\n",
      "  self.grid['control'] = 1 - (1 / (1 + np.exp(-Za + Zh))).flatten()\n",
      " 82%|████████▏ | 210/257 [07:07<10:56, 13.97s/it]/home/liaad/Desktop/KNNPitchControl/lib/pitch_control.py:387: RuntimeWarning: overflow encountered in exp\n",
      "  self.grid['control'] = 1 - (1 / (1 + np.exp(-Za + Zh))).flatten()\n",
      " 82%|████████▏ | 211/257 [07:21<10:41, 13.95s/it]/home/liaad/Desktop/KNNPitchControl/lib/pitch_control.py:387: RuntimeWarning: overflow encountered in exp\n",
      "  self.grid['control'] = 1 - (1 / (1 + np.exp(-Za + Zh))).flatten()\n",
      " 82%|████████▏ | 212/257 [07:35<10:28, 13.97s/it]/home/liaad/Desktop/KNNPitchControl/lib/pitch_control.py:387: RuntimeWarning: overflow encountered in exp\n",
      "  self.grid['control'] = 1 - (1 / (1 + np.exp(-Za + Zh))).flatten()\n",
      " 83%|████████▎ | 213/257 [07:49<10:14, 13.95s/it]/home/liaad/Desktop/KNNPitchControl/lib/pitch_control.py:387: RuntimeWarning: overflow encountered in exp\n",
      "  self.grid['control'] = 1 - (1 / (1 + np.exp(-Za + Zh))).flatten()\n",
      " 83%|████████▎ | 214/257 [08:02<09:57, 13.89s/it]/home/liaad/Desktop/KNNPitchControl/lib/pitch_control.py:387: RuntimeWarning: overflow encountered in exp\n",
      "  self.grid['control'] = 1 - (1 / (1 + np.exp(-Za + Zh))).flatten()\n",
      " 84%|████████▎ | 215/257 [08:16<09:43, 13.88s/it]/home/liaad/Desktop/KNNPitchControl/lib/pitch_control.py:387: RuntimeWarning: overflow encountered in exp\n",
      "  self.grid['control'] = 1 - (1 / (1 + np.exp(-Za + Zh))).flatten()\n",
      " 84%|████████▍ | 216/257 [08:30<09:28, 13.88s/it]/home/liaad/Desktop/KNNPitchControl/lib/pitch_control.py:387: RuntimeWarning: overflow encountered in exp\n",
      "  self.grid['control'] = 1 - (1 / (1 + np.exp(-Za + Zh))).flatten()\n",
      " 84%|████████▍ | 217/257 [08:44<09:15, 13.88s/it]/home/liaad/Desktop/KNNPitchControl/lib/pitch_control.py:387: RuntimeWarning: overflow encountered in exp\n",
      "  self.grid['control'] = 1 - (1 / (1 + np.exp(-Za + Zh))).flatten()\n",
      " 85%|████████▍ | 218/257 [08:58<09:01, 13.89s/it]/home/liaad/Desktop/KNNPitchControl/lib/pitch_control.py:387: RuntimeWarning: overflow encountered in exp\n",
      "  self.grid['control'] = 1 - (1 / (1 + np.exp(-Za + Zh))).flatten()\n",
      " 85%|████████▌ | 219/257 [09:12<08:46, 13.86s/it]/home/liaad/Desktop/KNNPitchControl/lib/pitch_control.py:387: RuntimeWarning: overflow encountered in exp\n",
      "  self.grid['control'] = 1 - (1 / (1 + np.exp(-Za + Zh))).flatten()\n",
      " 86%|████████▌ | 220/257 [09:26<08:32, 13.85s/it]/home/liaad/Desktop/KNNPitchControl/lib/pitch_control.py:387: RuntimeWarning: overflow encountered in exp\n",
      "  self.grid['control'] = 1 - (1 / (1 + np.exp(-Za + Zh))).flatten()\n",
      " 86%|████████▌ | 221/257 [09:39<08:17, 13.83s/it]/home/liaad/Desktop/KNNPitchControl/lib/pitch_control.py:387: RuntimeWarning: overflow encountered in exp\n",
      "  self.grid['control'] = 1 - (1 / (1 + np.exp(-Za + Zh))).flatten()\n",
      " 86%|████████▋ | 222/257 [09:53<08:03, 13.81s/it]/home/liaad/Desktop/KNNPitchControl/lib/pitch_control.py:387: RuntimeWarning: overflow encountered in exp\n",
      "  self.grid['control'] = 1 - (1 / (1 + np.exp(-Za + Zh))).flatten()\n",
      " 87%|████████▋ | 223/257 [10:07<07:48, 13.78s/it]/home/liaad/Desktop/KNNPitchControl/lib/pitch_control.py:387: RuntimeWarning: overflow encountered in exp\n",
      "  self.grid['control'] = 1 - (1 / (1 + np.exp(-Za + Zh))).flatten()\n",
      " 87%|████████▋ | 224/257 [10:20<07:32, 13.71s/it]/home/liaad/Desktop/KNNPitchControl/lib/pitch_control.py:387: RuntimeWarning: overflow encountered in exp\n",
      "  self.grid['control'] = 1 - (1 / (1 + np.exp(-Za + Zh))).flatten()\n",
      " 88%|████████▊ | 225/257 [10:34<07:18, 13.70s/it]/home/liaad/Desktop/KNNPitchControl/lib/pitch_control.py:387: RuntimeWarning: overflow encountered in exp\n",
      "  self.grid['control'] = 1 - (1 / (1 + np.exp(-Za + Zh))).flatten()\n",
      " 88%|████████▊ | 226/257 [10:48<07:05, 13.72s/it]/home/liaad/Desktop/KNNPitchControl/lib/pitch_control.py:387: RuntimeWarning: overflow encountered in exp\n",
      "  self.grid['control'] = 1 - (1 / (1 + np.exp(-Za + Zh))).flatten()\n",
      " 88%|████████▊ | 227/257 [11:02<06:51, 13.72s/it]/home/liaad/Desktop/KNNPitchControl/lib/pitch_control.py:387: RuntimeWarning: overflow encountered in exp\n",
      "  self.grid['control'] = 1 - (1 / (1 + np.exp(-Za + Zh))).flatten()\n",
      " 89%|████████▊ | 228/257 [11:15<06:37, 13.70s/it]/home/liaad/Desktop/KNNPitchControl/lib/pitch_control.py:387: RuntimeWarning: overflow encountered in exp\n",
      "  self.grid['control'] = 1 - (1 / (1 + np.exp(-Za + Zh))).flatten()\n",
      " 89%|████████▉ | 229/257 [11:29<06:23, 13.69s/it]/home/liaad/Desktop/KNNPitchControl/lib/pitch_control.py:387: RuntimeWarning: overflow encountered in exp\n",
      "  self.grid['control'] = 1 - (1 / (1 + np.exp(-Za + Zh))).flatten()\n",
      " 89%|████████▉ | 230/257 [11:43<06:10, 13.71s/it]/home/liaad/Desktop/KNNPitchControl/lib/pitch_control.py:387: RuntimeWarning: overflow encountered in exp\n",
      "  self.grid['control'] = 1 - (1 / (1 + np.exp(-Za + Zh))).flatten()\n",
      " 90%|████████▉ | 231/257 [11:56<05:56, 13.69s/it]/home/liaad/Desktop/KNNPitchControl/lib/pitch_control.py:387: RuntimeWarning: overflow encountered in exp\n",
      "  self.grid['control'] = 1 - (1 / (1 + np.exp(-Za + Zh))).flatten()\n",
      "100%|██████████| 257/257 [17:34<00:00,  4.10s/it]\n",
      "  0%|          | 0/289 [00:00<?, ?it/s]"
     ]
    },
    {
     "name": "stdout",
     "output_type": "stream",
     "text": [
      "Barcelona 1 - [2] Real Madrid\n"
     ]
    },
    {
     "name": "stderr",
     "output_type": "stream",
     "text": [
      "/home/liaad/Desktop/KNNPitchControl/lib/pitch_control.py:387: RuntimeWarning: overflow encountered in exp\n",
      "  self.grid['control'] = 1 - (1 / (1 + np.exp(-Za + Zh))).flatten()\n",
      " 50%|████▉     | 144/289 [35:53<39:46, 16.46s/it] /home/liaad/Desktop/KNNPitchControl/lib/pitch_control.py:387: RuntimeWarning: overflow encountered in exp\n",
      "  self.grid['control'] = 1 - (1 / (1 + np.exp(-Za + Zh))).flatten()\n",
      " 50%|█████     | 145/289 [36:10<39:34, 16.49s/it]/home/liaad/Desktop/KNNPitchControl/lib/pitch_control.py:387: RuntimeWarning: overflow encountered in exp\n",
      "  self.grid['control'] = 1 - (1 / (1 + np.exp(-Za + Zh))).flatten()\n",
      " 61%|██████    | 177/289 [43:42<23:33, 12.62s/it]/home/liaad/Desktop/KNNPitchControl/lib/pitch_control.py:387: RuntimeWarning: overflow encountered in exp\n",
      "  self.grid['control'] = 1 - (1 / (1 + np.exp(-Za + Zh))).flatten()\n",
      " 62%|██████▏   | 178/289 [43:54<23:16, 12.59s/it]/home/liaad/Desktop/KNNPitchControl/lib/pitch_control.py:387: RuntimeWarning: overflow encountered in exp\n",
      "  self.grid['control'] = 1 - (1 / (1 + np.exp(-Za + Zh))).flatten()\n",
      " 62%|██████▏   | 179/289 [44:07<23:03, 12.58s/it]/home/liaad/Desktop/KNNPitchControl/lib/pitch_control.py:387: RuntimeWarning: overflow encountered in exp\n",
      "  self.grid['control'] = 1 - (1 / (1 + np.exp(-Za + Zh))).flatten()\n",
      " 62%|██████▏   | 180/289 [44:19<22:53, 12.60s/it]/home/liaad/Desktop/KNNPitchControl/lib/pitch_control.py:387: RuntimeWarning: overflow encountered in exp\n",
      "  self.grid['control'] = 1 - (1 / (1 + np.exp(-Za + Zh))).flatten()\n",
      " 63%|██████▎   | 181/289 [44:32<22:46, 12.66s/it]/home/liaad/Desktop/KNNPitchControl/lib/pitch_control.py:387: RuntimeWarning: overflow encountered in exp\n",
      "  self.grid['control'] = 1 - (1 / (1 + np.exp(-Za + Zh))).flatten()\n",
      " 63%|██████▎   | 182/289 [44:45<22:29, 12.61s/it]/home/liaad/Desktop/KNNPitchControl/lib/pitch_control.py:387: RuntimeWarning: overflow encountered in exp\n",
      "  self.grid['control'] = 1 - (1 / (1 + np.exp(-Za + Zh))).flatten()\n",
      " 63%|██████▎   | 183/289 [44:57<22:09, 12.54s/it]/home/liaad/Desktop/KNNPitchControl/lib/pitch_control.py:387: RuntimeWarning: overflow encountered in exp\n",
      "  self.grid['control'] = 1 - (1 / (1 + np.exp(-Za + Zh))).flatten()\n",
      " 64%|██████▎   | 184/289 [45:10<21:54, 12.52s/it]/home/liaad/Desktop/KNNPitchControl/lib/pitch_control.py:387: RuntimeWarning: overflow encountered in exp\n",
      "  self.grid['control'] = 1 - (1 / (1 + np.exp(-Za + Zh))).flatten()\n",
      " 64%|██████▍   | 185/289 [45:22<21:38, 12.48s/it]/home/liaad/Desktop/KNNPitchControl/lib/pitch_control.py:387: RuntimeWarning: overflow encountered in exp\n",
      "  self.grid['control'] = 1 - (1 / (1 + np.exp(-Za + Zh))).flatten()\n",
      " 64%|██████▍   | 186/289 [45:34<21:24, 12.47s/it]/home/liaad/Desktop/KNNPitchControl/lib/pitch_control.py:387: RuntimeWarning: overflow encountered in exp\n",
      "  self.grid['control'] = 1 - (1 / (1 + np.exp(-Za + Zh))).flatten()\n",
      " 65%|██████▍   | 187/289 [45:47<21:07, 12.42s/it]/home/liaad/Desktop/KNNPitchControl/lib/pitch_control.py:387: RuntimeWarning: overflow encountered in exp\n",
      "  self.grid['control'] = 1 - (1 / (1 + np.exp(-Za + Zh))).flatten()\n",
      " 65%|██████▌   | 188/289 [45:59<20:47, 12.35s/it]/home/liaad/Desktop/KNNPitchControl/lib/pitch_control.py:387: RuntimeWarning: overflow encountered in exp\n",
      "  self.grid['control'] = 1 - (1 / (1 + np.exp(-Za + Zh))).flatten()\n",
      " 65%|██████▌   | 189/289 [46:11<20:32, 12.32s/it]/home/liaad/Desktop/KNNPitchControl/lib/pitch_control.py:387: RuntimeWarning: overflow encountered in exp\n",
      "  self.grid['control'] = 1 - (1 / (1 + np.exp(-Za + Zh))).flatten()\n",
      " 66%|██████▌   | 190/289 [46:24<20:20, 12.33s/it]/home/liaad/Desktop/KNNPitchControl/lib/pitch_control.py:387: RuntimeWarning: overflow encountered in exp\n",
      "  self.grid['control'] = 1 - (1 / (1 + np.exp(-Za + Zh))).flatten()\n",
      " 66%|██████▌   | 191/289 [46:36<20:00, 12.25s/it]/home/liaad/Desktop/KNNPitchControl/lib/pitch_control.py:387: RuntimeWarning: overflow encountered in exp\n",
      "  self.grid['control'] = 1 - (1 / (1 + np.exp(-Za + Zh))).flatten()\n",
      " 66%|██████▋   | 192/289 [46:48<19:42, 12.19s/it]/home/liaad/Desktop/KNNPitchControl/lib/pitch_control.py:387: RuntimeWarning: overflow encountered in exp\n",
      "  self.grid['control'] = 1 - (1 / (1 + np.exp(-Za + Zh))).flatten()\n",
      "100%|██████████| 289/289 [1:05:23<00:00, 13.57s/it]\n"
     ]
    }
   ],
   "source": [
    "play_frame_id = 0\n",
    "for play in df.play.unique()[[4, 5, -1]]:\n",
    "    print(play)\n",
    "    df_play = df[df.play == play]\n",
    "    for frame_no in tqdm(df_play.frame.unique()):\n",
    "        play_frame_id += 1\n",
    "        if play_frame_id in df_results.play_frame_id.unique():\n",
    "            continue\n",
    "\n",
    "        df_frame = df_play[df_play.frame == frame_no]\n",
    "        \n",
    "        run_model(csv_results, csv_grids, knn_pitch_control_voronoi, 'KNN (Voronoi)', play_frame_id, df_frame)\n",
    "        run_model(csv_results, csv_grids, knn_pitch_control_spearman, 'KNN (Spearman)', play_frame_id, df_frame)\n",
    "        run_model(csv_results, csv_grids, knn_pitch_control_fernandez, 'KNN (Fernandez)', play_frame_id, df_frame)\n",
    "        run_model(csv_results, csv_grids, spearman_pitch_control, 'Spearman Pitch Control', play_frame_id, df_frame)\n",
    "        run_model(csv_results, csv_grids, fernandez_pitch_control, 'Fernandez Pitch Control', play_frame_id, df_frame, df_play)\n",
    "\n",
    "        csv_results = close_and_reopen_file(csv_results, results_file_path)\n",
    "        csv_grids = close_and_reopen_file(csv_grids, grids_file_path)"
   ]
  },
  {
   "cell_type": "markdown",
   "metadata": {},
   "source": [
    "# Run Individual Models"
   ]
  },
  {
   "cell_type": "code",
   "execution_count": 9,
   "metadata": {},
   "outputs": [],
   "source": [
    "knn_pitch_control_spearman_doublesmooth = KNNPitchControl(lags=[0, 10, 20], smoothing=[8, 10])"
   ]
  },
  {
   "cell_type": "code",
   "execution_count": 10,
   "metadata": {},
   "outputs": [
    {
     "name": "stderr",
     "output_type": "stream",
     "text": [
      "  0%|          | 0/195 [00:00<?, ?it/s]"
     ]
    },
    {
     "name": "stdout",
     "output_type": "stream",
     "text": [
      "Liverpool [2] - 0 Porto\n"
     ]
    },
    {
     "name": "stderr",
     "output_type": "stream",
     "text": [
      "100%|██████████| 195/195 [01:53<00:00,  1.71it/s]\n",
      "  0%|          | 0/257 [00:00<?, ?it/s]"
     ]
    },
    {
     "name": "stdout",
     "output_type": "stream",
     "text": [
      "Porto 0 - [2] Liverpool\n"
     ]
    },
    {
     "name": "stderr",
     "output_type": "stream",
     "text": [
      "100%|██████████| 257/257 [02:31<00:00,  1.70it/s]\n",
      "  0%|          | 0/289 [00:00<?, ?it/s]"
     ]
    },
    {
     "name": "stdout",
     "output_type": "stream",
     "text": [
      "Barcelona 1 - [2] Real Madrid\n"
     ]
    },
    {
     "name": "stderr",
     "output_type": "stream",
     "text": [
      "100%|██████████| 289/289 [02:50<00:00,  1.70it/s]\n"
     ]
    }
   ],
   "source": [
    "for play in df.play.unique()[[4, 5, -1]]:\n",
    "    print(play)\n",
    "    df_play = df[df.play == play]\n",
    "    for frame_no in tqdm(df_play.frame.unique()):\n",
    "        play_frame_id += 1\n",
    "\n",
    "        df_frame = df_play[df_play.frame == frame_no]\n",
    "        \n",
    "        run_model(csv_results, csv_grids, knn_pitch_control_spearman_doublesmooth, 'KNN (Spearman 2 Smooth)', play_frame_id, df_frame)\n",
    "\n",
    "        csv_results = close_and_reopen_file(csv_results, results_file_path)\n",
    "        csv_grids = close_and_reopen_file(csv_grids, grids_file_path)"
   ]
  }
 ],
 "metadata": {
  "kernelspec": {
   "display_name": "Python 3.8.10 64-bit",
   "language": "python",
   "name": "python3"
  },
  "language_info": {
   "codemirror_mode": {
    "name": "ipython",
    "version": 3
   },
   "file_extension": ".py",
   "mimetype": "text/x-python",
   "name": "python",
   "nbconvert_exporter": "python",
   "pygments_lexer": "ipython3",
   "version": "3.8.10"
  },
  "orig_nbformat": 4,
  "vscode": {
   "interpreter": {
    "hash": "e7370f93d1d0cde622a1f8e1c04877d8463912d04d973331ad4851f04de6915a"
   }
  }
 },
 "nbformat": 4,
 "nbformat_minor": 2
}
