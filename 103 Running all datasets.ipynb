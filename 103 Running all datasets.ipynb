{
 "cells": [
  {
   "cell_type": "code",
   "execution_count": 1,
   "metadata": {},
   "outputs": [],
   "source": [
    "import pandas as pd\n",
    "from lib.pitch_control import plot_pitch_control, KNNPitchControl, SpearmanPitchControl, FernandezPitchControl\n",
    "from lib.draw import pitch\n",
    "import matplotlib.pyplot as plt\n",
    "from time import time\n",
    "from tqdm import tqdm"
   ]
  },
  {
   "cell_type": "code",
   "execution_count": 2,
   "metadata": {},
   "outputs": [
    {
     "data": {
      "text/html": [
       "<div>\n",
       "<style scoped>\n",
       "    .dataframe tbody tr th:only-of-type {\n",
       "        vertical-align: middle;\n",
       "    }\n",
       "\n",
       "    .dataframe tbody tr th {\n",
       "        vertical-align: top;\n",
       "    }\n",
       "\n",
       "    .dataframe thead th {\n",
       "        text-align: right;\n",
       "    }\n",
       "</style>\n",
       "<table border=\"1\" class=\"dataframe\">\n",
       "  <thead>\n",
       "    <tr style=\"text-align: right;\">\n",
       "      <th></th>\n",
       "      <th>bgcolor</th>\n",
       "      <th>dx</th>\n",
       "      <th>dy</th>\n",
       "      <th>edgecolor</th>\n",
       "      <th>frame</th>\n",
       "      <th>play</th>\n",
       "      <th>player</th>\n",
       "      <th>player_num</th>\n",
       "      <th>team</th>\n",
       "      <th>x</th>\n",
       "      <th>y</th>\n",
       "      <th>z</th>\n",
       "      <th>coords</th>\n",
       "      <th>player_obj</th>\n",
       "      <th>num</th>\n",
       "      <th>name</th>\n",
       "      <th>play_id</th>\n",
       "    </tr>\n",
       "  </thead>\n",
       "  <tbody>\n",
       "    <tr>\n",
       "      <th>65552</th>\n",
       "      <td>darkred</td>\n",
       "      <td>-0.126536</td>\n",
       "      <td>1.687730e-02</td>\n",
       "      <td>black</td>\n",
       "      <td>26</td>\n",
       "      <td>Bournemouth 0 - 3 Liverpool</td>\n",
       "      <td>12087</td>\n",
       "      <td>NaN</td>\n",
       "      <td>defense</td>\n",
       "      <td>48.909321</td>\n",
       "      <td>58.892057</td>\n",
       "      <td>0.0</td>\n",
       "      <td>NaN</td>\n",
       "      <td>NaN</td>\n",
       "      <td>NaN</td>\n",
       "      <td>NaN</td>\n",
       "      <td>2</td>\n",
       "    </tr>\n",
       "    <tr>\n",
       "      <th>54708</th>\n",
       "      <td>blue</td>\n",
       "      <td>0.002541</td>\n",
       "      <td>-1.614015e-03</td>\n",
       "      <td>white</td>\n",
       "      <td>48</td>\n",
       "      <td>Liverpool [1] - 0 Everton</td>\n",
       "      <td>2606</td>\n",
       "      <td>NaN</td>\n",
       "      <td>defense</td>\n",
       "      <td>10.307798</td>\n",
       "      <td>45.490381</td>\n",
       "      <td>0.0</td>\n",
       "      <td>NaN</td>\n",
       "      <td>NaN</td>\n",
       "      <td>NaN</td>\n",
       "      <td>NaN</td>\n",
       "      <td>6</td>\n",
       "    </tr>\n",
       "    <tr>\n",
       "      <th>73880</th>\n",
       "      <td>red</td>\n",
       "      <td>0.000000</td>\n",
       "      <td>-2.131628e-14</td>\n",
       "      <td>white</td>\n",
       "      <td>69</td>\n",
       "      <td>Leicester 0 - [3] Liverpool</td>\n",
       "      <td>8101</td>\n",
       "      <td>NaN</td>\n",
       "      <td>attack</td>\n",
       "      <td>55.782313</td>\n",
       "      <td>36.974790</td>\n",
       "      <td>0.0</td>\n",
       "      <td>NaN</td>\n",
       "      <td>NaN</td>\n",
       "      <td>NaN</td>\n",
       "      <td>NaN</td>\n",
       "      <td>5</td>\n",
       "    </tr>\n",
       "    <tr>\n",
       "      <th>25850</th>\n",
       "      <td>red</td>\n",
       "      <td>0.008527</td>\n",
       "      <td>-3.144893e-03</td>\n",
       "      <td>white</td>\n",
       "      <td>132</td>\n",
       "      <td>Liverpool [4] - 0 Barcelona</td>\n",
       "      <td>747</td>\n",
       "      <td>66.0</td>\n",
       "      <td>attack</td>\n",
       "      <td>98.696338</td>\n",
       "      <td>0.308924</td>\n",
       "      <td>0.0</td>\n",
       "      <td>NaN</td>\n",
       "      <td>NaN</td>\n",
       "      <td>NaN</td>\n",
       "      <td>NaN</td>\n",
       "      <td>17</td>\n",
       "    </tr>\n",
       "    <tr>\n",
       "      <th>63738</th>\n",
       "      <td>red</td>\n",
       "      <td>-0.115260</td>\n",
       "      <td>9.718962e-03</td>\n",
       "      <td>white</td>\n",
       "      <td>154</td>\n",
       "      <td>Liverpool [2] - 0 Everton</td>\n",
       "      <td>42401</td>\n",
       "      <td>NaN</td>\n",
       "      <td>attack</td>\n",
       "      <td>68.114305</td>\n",
       "      <td>47.859294</td>\n",
       "      <td>0.0</td>\n",
       "      <td>NaN</td>\n",
       "      <td>NaN</td>\n",
       "      <td>NaN</td>\n",
       "      <td>NaN</td>\n",
       "      <td>9</td>\n",
       "    </tr>\n",
       "  </tbody>\n",
       "</table>\n",
       "</div>"
      ],
      "text/plain": [
       "       bgcolor        dx            dy edgecolor  frame  \\\n",
       "65552  darkred -0.126536  1.687730e-02     black     26   \n",
       "54708     blue  0.002541 -1.614015e-03     white     48   \n",
       "73880      red  0.000000 -2.131628e-14     white     69   \n",
       "25850      red  0.008527 -3.144893e-03     white    132   \n",
       "63738      red -0.115260  9.718962e-03     white    154   \n",
       "\n",
       "                              play  player  player_num     team          x  \\\n",
       "65552  Bournemouth 0 - 3 Liverpool   12087         NaN  defense  48.909321   \n",
       "54708    Liverpool [1] - 0 Everton    2606         NaN  defense  10.307798   \n",
       "73880  Leicester 0 - [3] Liverpool    8101         NaN   attack  55.782313   \n",
       "25850  Liverpool [4] - 0 Barcelona     747        66.0   attack  98.696338   \n",
       "63738    Liverpool [2] - 0 Everton   42401         NaN   attack  68.114305   \n",
       "\n",
       "               y    z coords  player_obj  num  name  play_id  \n",
       "65552  58.892057  0.0    NaN         NaN  NaN   NaN        2  \n",
       "54708  45.490381  0.0    NaN         NaN  NaN   NaN        6  \n",
       "73880  36.974790  0.0    NaN         NaN  NaN   NaN        5  \n",
       "25850   0.308924  0.0    NaN         NaN  NaN   NaN       17  \n",
       "63738  47.859294  0.0    NaN         NaN  NaN   NaN        9  "
      ]
     },
     "execution_count": 2,
     "metadata": {},
     "output_type": "execute_result"
    }
   ],
   "source": [
    "df = pd.read_csv('data/all_goals.csv', low_memory=False)\n",
    "df.edgecolor.fillna('white', inplace=True)\n",
    "df.bgcolor.fillna('black', inplace=True)\n",
    "df.sample(5)"
   ]
  },
  {
   "cell_type": "code",
   "execution_count": 3,
   "metadata": {},
   "outputs": [
    {
     "data": {
      "text/plain": [
       "array(['Liverpool [3] - 0 Bournemouth', 'Bayern 0 - [1] Liverpool',\n",
       "       'Fulham 0 - [1] Liverpool', 'Southampton 1 - [2] Liverpool',\n",
       "       'Liverpool [2] - 0 Porto', 'Porto 0 - [2] Liverpool',\n",
       "       'Liverpool [4] - 0 Barcelona', 'Liverpool [1] - 0 Wolves',\n",
       "       'Liverpool [3] - 0 Norwich', 'Liverpool [2] - 1 Chelsea',\n",
       "       'Liverpool [2] - 1 Newcastle', 'Liverpool [2] - 0 Salzburg',\n",
       "       'Genk 0 - [3] Liverpool', 'Liverpool [2] - 0 Man City',\n",
       "       'Liverpool [1] - 0 Everton', 'Liverpool [2] - 0 Everton',\n",
       "       'Bournemouth 0 - 3 Liverpool', 'Liverpool [1] - 0 Watford',\n",
       "       'Leicester 0 - [3] Liverpool', 'Barcelona 1 - [2] Real Madrid'],\n",
       "      dtype=object)"
      ]
     },
     "execution_count": 3,
     "metadata": {},
     "output_type": "execute_result"
    }
   ],
   "source": [
    "df.play.unique()"
   ]
  },
  {
   "cell_type": "code",
   "execution_count": 4,
   "metadata": {},
   "outputs": [],
   "source": [
    "knn_pitch_control_voronoi = KNNPitchControl()\n",
    "knn_pitch_control_spearman = KNNPitchControl(lags=[0, 10, 20], smoothing=8)\n",
    "knn_pitch_control_fernandez = KNNPitchControl(lags=[0, 10, 20], smoothing=6, distance_basis=250)\n",
    "spearman_pitch_control = SpearmanPitchControl()\n",
    "fernandez_pitch_control = FernandezPitchControl()"
   ]
  },
  {
   "cell_type": "code",
   "execution_count": 5,
   "metadata": {},
   "outputs": [],
   "source": [
    "# Initialize results file\n",
    "import os\n",
    "results_file_path = 'res/results.csv'\n",
    "grids_file_path = 'res/grids.csv'\n",
    "if os.path.isfile(results_file_path):\n",
    "    df_results = pd.read_csv(results_file_path)\n",
    "    df_grids = pd.read_csv(grids_file_path)\n",
    "else:\n",
    "    df_results = pd.DataFrame(columns=['play_frame_id'])\n",
    "    df_grids = pd.DataFrame(columns=['play_frame_id', 'model_name'] + [f'c{i}' for i in range(106*69)])"
   ]
  },
  {
   "cell_type": "code",
   "execution_count": 6,
   "metadata": {},
   "outputs": [],
   "source": [
    "def run_model(df_results, df_grids, model, model_name, play_frame_id, df_frame, df_play=None):\n",
    "    t0 = time()\n",
    "    if df_play is None:\n",
    "        model.grid['control'] = model.predict(df_frame).round(2)\n",
    "    else:\n",
    "        model.grid['control'] = model.predict(df_frame, df_play).round(2)\n",
    "    inference_time = time() - t0\n",
    "    \n",
    "    model.grid['play_frame_id'] = play_frame_id\n",
    "    model.grid['model'] = model_name\n",
    "    \n",
    "    df_results = pd.concat([df_results, \n",
    "        pd.DataFrame([[play_frame_id, model_name, play, frame_no, inference_time]], \n",
    "        columns=['play_frame_id', 'model', 'play', 'frame', 'inference_time'])])[['play_frame_id', 'model', 'play', 'frame', 'inference_time']]\n",
    "    df_grids.loc[len(df_grids)] = [play_frame_id, model_name] + model.grid['control'].tolist()\n",
    "\n",
    "    return df_results, df_grids"
   ]
  },
  {
   "cell_type": "code",
   "execution_count": 7,
   "metadata": {},
   "outputs": [
    {
     "name": "stderr",
     "output_type": "stream",
     "text": [
      "  0%|          | 0/195 [00:00<?, ?it/s]"
     ]
    },
    {
     "name": "stdout",
     "output_type": "stream",
     "text": [
      "Liverpool [2] - 0 Porto\n"
     ]
    },
    {
     "name": "stderr",
     "output_type": "stream",
     "text": [
      " 16%|█▌        | 31/195 [15:31<1:29:04, 32.59s/it]"
     ]
    }
   ],
   "source": [
    "play_frame_id = 0\n",
    "for play in df.play.unique()[[4, 5, -1]]:\n",
    "    print(play)\n",
    "    df_play = df[df.play == play]\n",
    "    for frame_no in tqdm(df_play.frame.unique()):\n",
    "        play_frame_id += 1\n",
    "        if play_frame_id in df_results.play_frame_id.unique():\n",
    "            continue\n",
    "\n",
    "        df_frame = df_play[df_play.frame == frame_no]\n",
    "        \n",
    "        df_results, df_grids = run_model(df_results, df_grids, knn_pitch_control_voronoi, 'KNN (Voronoi)', play_frame_id, df_frame)\n",
    "        df_results, df_grids = run_model(df_results, df_grids, knn_pitch_control_spearman, 'KNN (Spearman)', play_frame_id, df_frame)\n",
    "        df_results, df_grids = run_model(df_results, df_grids, knn_pitch_control_fernandez, 'KNN (Fernandez)', play_frame_id, df_frame)\n",
    "        df_results, df_grids = run_model(df_results, df_grids, spearman_pitch_control, 'Spearman Pitch Control', play_frame_id, df_frame)\n",
    "        df_results, df_grids = run_model(df_results, df_grids, fernandez_pitch_control, 'Fernandez Pitch Control', play_frame_id, df_frame, df_play)\n",
    "\n",
    "        df_results.to_csv(results_file_path, index=False)\n",
    "        df_grids.to_csv(grids_file_path, index=False)"
   ]
  }
 ],
 "metadata": {
  "kernelspec": {
   "display_name": "Python 3.8.10 64-bit",
   "language": "python",
   "name": "python3"
  },
  "language_info": {
   "codemirror_mode": {
    "name": "ipython",
    "version": 3
   },
   "file_extension": ".py",
   "mimetype": "text/x-python",
   "name": "python",
   "nbconvert_exporter": "python",
   "pygments_lexer": "ipython3",
   "version": "3.8.10"
  },
  "orig_nbformat": 4,
  "vscode": {
   "interpreter": {
    "hash": "e7370f93d1d0cde622a1f8e1c04877d8463912d04d973331ad4851f04de6915a"
   }
  }
 },
 "nbformat": 4,
 "nbformat_minor": 2
}
