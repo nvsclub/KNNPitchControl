{
 "cells": [
  {
   "cell_type": "code",
   "execution_count": 1,
   "metadata": {},
   "outputs": [],
   "source": [
    "import pandas as pd"
   ]
  },
  {
   "cell_type": "code",
   "execution_count": 2,
   "metadata": {},
   "outputs": [
    {
     "data": {
      "text/html": [
       "<div>\n",
       "<style scoped>\n",
       "    .dataframe tbody tr th:only-of-type {\n",
       "        vertical-align: middle;\n",
       "    }\n",
       "\n",
       "    .dataframe tbody tr th {\n",
       "        vertical-align: top;\n",
       "    }\n",
       "\n",
       "    .dataframe thead th {\n",
       "        text-align: right;\n",
       "    }\n",
       "</style>\n",
       "<table border=\"1\" class=\"dataframe\">\n",
       "  <thead>\n",
       "    <tr style=\"text-align: right;\">\n",
       "      <th></th>\n",
       "      <th>Unnamed: 0</th>\n",
       "      <th>bgcolor</th>\n",
       "      <th>dx</th>\n",
       "      <th>dy</th>\n",
       "      <th>edgecolor</th>\n",
       "      <th>frame</th>\n",
       "      <th>play</th>\n",
       "      <th>player</th>\n",
       "      <th>player_num</th>\n",
       "      <th>team</th>\n",
       "      <th>x</th>\n",
       "      <th>y</th>\n",
       "      <th>z</th>\n",
       "    </tr>\n",
       "  </thead>\n",
       "  <tbody>\n",
       "    <tr>\n",
       "      <th>43655</th>\n",
       "      <td>2091</td>\n",
       "      <td>black</td>\n",
       "      <td>-0.081469</td>\n",
       "      <td>-0.015292</td>\n",
       "      <td>red</td>\n",
       "      <td>181</td>\n",
       "      <td>Liverpool [2] - 0 Salzburg</td>\n",
       "      <td>3570</td>\n",
       "      <td>NaN</td>\n",
       "      <td>defense</td>\n",
       "      <td>10.111070</td>\n",
       "      <td>68.313658</td>\n",
       "      <td>0.0</td>\n",
       "    </tr>\n",
       "    <tr>\n",
       "      <th>68720</th>\n",
       "      <td>1484</td>\n",
       "      <td>yellow</td>\n",
       "      <td>-0.505978</td>\n",
       "      <td>-0.202959</td>\n",
       "      <td>black</td>\n",
       "      <td>134</td>\n",
       "      <td>Liverpool [1] - 0 Watford</td>\n",
       "      <td>1944</td>\n",
       "      <td>NaN</td>\n",
       "      <td>defense</td>\n",
       "      <td>27.753712</td>\n",
       "      <td>31.496586</td>\n",
       "      <td>0.0</td>\n",
       "    </tr>\n",
       "    <tr>\n",
       "      <th>47289</th>\n",
       "      <td>1523</td>\n",
       "      <td>blue</td>\n",
       "      <td>0.160882</td>\n",
       "      <td>-0.054964</td>\n",
       "      <td>white</td>\n",
       "      <td>59</td>\n",
       "      <td>Genk 0 - [3] Liverpool</td>\n",
       "      <td>3837</td>\n",
       "      <td>NaN</td>\n",
       "      <td>defense</td>\n",
       "      <td>64.410856</td>\n",
       "      <td>65.610651</td>\n",
       "      <td>0.0</td>\n",
       "    </tr>\n",
       "    <tr>\n",
       "      <th>8813</th>\n",
       "      <td>2238</td>\n",
       "      <td>red</td>\n",
       "      <td>-0.178268</td>\n",
       "      <td>-0.050835</td>\n",
       "      <td>white</td>\n",
       "      <td>42</td>\n",
       "      <td>Fulham 0 - [1] Liverpool</td>\n",
       "      <td>9756</td>\n",
       "      <td>5.0</td>\n",
       "      <td>attack</td>\n",
       "      <td>38.095238</td>\n",
       "      <td>59.033613</td>\n",
       "      <td>0.0</td>\n",
       "    </tr>\n",
       "    <tr>\n",
       "      <th>49944</th>\n",
       "      <td>152</td>\n",
       "      <td>NaN</td>\n",
       "      <td>-0.275120</td>\n",
       "      <td>-0.367362</td>\n",
       "      <td>NaN</td>\n",
       "      <td>152</td>\n",
       "      <td>Liverpool [2] - 0 Man City</td>\n",
       "      <td>0</td>\n",
       "      <td>NaN</td>\n",
       "      <td>NaN</td>\n",
       "      <td>-0.680272</td>\n",
       "      <td>45.798319</td>\n",
       "      <td>0.0</td>\n",
       "    </tr>\n",
       "  </tbody>\n",
       "</table>\n",
       "</div>"
      ],
      "text/plain": [
       "       Unnamed: 0 bgcolor        dx        dy edgecolor  frame  \\\n",
       "43655        2091   black -0.081469 -0.015292       red    181   \n",
       "68720        1484  yellow -0.505978 -0.202959     black    134   \n",
       "47289        1523    blue  0.160882 -0.054964     white     59   \n",
       "8813         2238     red -0.178268 -0.050835     white     42   \n",
       "49944         152     NaN -0.275120 -0.367362       NaN    152   \n",
       "\n",
       "                             play  player  player_num     team          x  \\\n",
       "43655  Liverpool [2] - 0 Salzburg    3570         NaN  defense  10.111070   \n",
       "68720   Liverpool [1] - 0 Watford    1944         NaN  defense  27.753712   \n",
       "47289      Genk 0 - [3] Liverpool    3837         NaN  defense  64.410856   \n",
       "8813     Fulham 0 - [1] Liverpool    9756         5.0   attack  38.095238   \n",
       "49944  Liverpool [2] - 0 Man City       0         NaN      NaN  -0.680272   \n",
       "\n",
       "               y    z  \n",
       "43655  68.313658  0.0  \n",
       "68720  31.496586  0.0  \n",
       "47289  65.610651  0.0  \n",
       "8813   59.033613  0.0  \n",
       "49944  45.798319  0.0  "
      ]
     },
     "execution_count": 2,
     "metadata": {},
     "output_type": "execute_result"
    }
   ],
   "source": [
    "df = pd.read_csv('data/liverpool_2019.csv')\n",
    "df.sample(5)"
   ]
  },
  {
   "cell_type": "code",
   "execution_count": 3,
   "metadata": {},
   "outputs": [],
   "source": [
    "game1 = pd.read_csv('data/LIV_[2]-1_CHE.csv')\n",
    "game1['play'] = 'Liverpool [2] - 1 Chelsea'"
   ]
  },
  {
   "cell_type": "code",
   "execution_count": 4,
   "metadata": {},
   "outputs": [],
   "source": [
    "game2 = pd.read_csv('data/Real_vs_Barcelona_Calma.csv')\n",
    "game2['play'] = 'Barcelona 1 - [2] Real Madrid'"
   ]
  },
  {
   "cell_type": "code",
   "execution_count": 5,
   "metadata": {},
   "outputs": [],
   "source": [
    "df_cat = pd.concat([df, game1, game2]).drop('Unnamed: 0', axis=1)\n",
    "df_cat['play_id'] = df_cat.groupby('play').ngroup()\n",
    "df_cat.to_csv('data/all_goals.csv', index=False)"
   ]
  }
 ],
 "metadata": {
  "kernelspec": {
   "display_name": "Python 3.8.10 64-bit",
   "language": "python",
   "name": "python3"
  },
  "language_info": {
   "codemirror_mode": {
    "name": "ipython",
    "version": 3
   },
   "file_extension": ".py",
   "mimetype": "text/x-python",
   "name": "python",
   "nbconvert_exporter": "python",
   "pygments_lexer": "ipython3",
   "version": "3.8.10"
  },
  "orig_nbformat": 4,
  "vscode": {
   "interpreter": {
    "hash": "e7370f93d1d0cde622a1f8e1c04877d8463912d04d973331ad4851f04de6915a"
   }
  }
 },
 "nbformat": 4,
 "nbformat_minor": 2
}
