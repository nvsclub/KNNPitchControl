{
 "cells": [
  {
   "cell_type": "code",
   "execution_count": 1,
   "metadata": {},
   "outputs": [],
   "source": [
    "import pandas as pd"
   ]
  },
  {
   "cell_type": "code",
   "execution_count": 5,
   "metadata": {},
   "outputs": [
    {
     "data": {
      "text/html": [
       "<div>\n",
       "<style scoped>\n",
       "    .dataframe tbody tr th:only-of-type {\n",
       "        vertical-align: middle;\n",
       "    }\n",
       "\n",
       "    .dataframe tbody tr th {\n",
       "        vertical-align: top;\n",
       "    }\n",
       "\n",
       "    .dataframe thead th {\n",
       "        text-align: right;\n",
       "    }\n",
       "</style>\n",
       "<table border=\"1\" class=\"dataframe\">\n",
       "  <thead>\n",
       "    <tr style=\"text-align: right;\">\n",
       "      <th></th>\n",
       "      <th>Unnamed: 0</th>\n",
       "      <th>bgcolor</th>\n",
       "      <th>dx</th>\n",
       "      <th>dy</th>\n",
       "      <th>edgecolor</th>\n",
       "      <th>frame</th>\n",
       "      <th>play</th>\n",
       "      <th>player</th>\n",
       "      <th>player_num</th>\n",
       "      <th>team</th>\n",
       "      <th>x</th>\n",
       "      <th>y</th>\n",
       "      <th>z</th>\n",
       "    </tr>\n",
       "  </thead>\n",
       "  <tbody>\n",
       "    <tr>\n",
       "      <th>60113</th>\n",
       "      <td>2269</td>\n",
       "      <td>red</td>\n",
       "      <td>-0.162583</td>\n",
       "      <td>0.003944</td>\n",
       "      <td>white</td>\n",
       "      <td>260</td>\n",
       "      <td>Liverpool [2] - 0 Everton</td>\n",
       "      <td>2131</td>\n",
       "      <td>NaN</td>\n",
       "      <td>attack</td>\n",
       "      <td>53.617776</td>\n",
       "      <td>71.920091</td>\n",
       "      <td>0.0</td>\n",
       "    </tr>\n",
       "    <tr>\n",
       "      <th>25757</th>\n",
       "      <td>317</td>\n",
       "      <td>red</td>\n",
       "      <td>-0.092822</td>\n",
       "      <td>0.025937</td>\n",
       "      <td>white</td>\n",
       "      <td>39</td>\n",
       "      <td>Liverpool [4] - 0 Barcelona</td>\n",
       "      <td>747</td>\n",
       "      <td>66.0</td>\n",
       "      <td>attack</td>\n",
       "      <td>98.684985</td>\n",
       "      <td>0.597179</td>\n",
       "      <td>0.0</td>\n",
       "    </tr>\n",
       "    <tr>\n",
       "      <th>28064</th>\n",
       "      <td>2624</td>\n",
       "      <td>red</td>\n",
       "      <td>0.080285</td>\n",
       "      <td>0.005827</td>\n",
       "      <td>white</td>\n",
       "      <td>122</td>\n",
       "      <td>Liverpool [4] - 0 Barcelona</td>\n",
       "      <td>24770</td>\n",
       "      <td>NaN</td>\n",
       "      <td>attack</td>\n",
       "      <td>77.443491</td>\n",
       "      <td>46.020603</td>\n",
       "      <td>0.0</td>\n",
       "    </tr>\n",
       "    <tr>\n",
       "      <th>3541</th>\n",
       "      <td>596</td>\n",
       "      <td>red</td>\n",
       "      <td>-0.218719</td>\n",
       "      <td>0.031478</td>\n",
       "      <td>blue</td>\n",
       "      <td>101</td>\n",
       "      <td>Bayern 0 - [1] Liverpool</td>\n",
       "      <td>1475</td>\n",
       "      <td>NaN</td>\n",
       "      <td>defense</td>\n",
       "      <td>86.270153</td>\n",
       "      <td>64.897978</td>\n",
       "      <td>0.0</td>\n",
       "    </tr>\n",
       "    <tr>\n",
       "      <th>12422</th>\n",
       "      <td>2004</td>\n",
       "      <td>purple</td>\n",
       "      <td>-0.386225</td>\n",
       "      <td>0.046384</td>\n",
       "      <td>red</td>\n",
       "      <td>205</td>\n",
       "      <td>Southampton 1 - [2] Liverpool</td>\n",
       "      <td>6593</td>\n",
       "      <td>NaN</td>\n",
       "      <td>attack</td>\n",
       "      <td>33.087385</td>\n",
       "      <td>45.027629</td>\n",
       "      <td>0.0</td>\n",
       "    </tr>\n",
       "  </tbody>\n",
       "</table>\n",
       "</div>"
      ],
      "text/plain": [
       "       Unnamed: 0 bgcolor        dx        dy edgecolor  frame  \\\n",
       "60113        2269     red -0.162583  0.003944     white    260   \n",
       "25757         317     red -0.092822  0.025937     white     39   \n",
       "28064        2624     red  0.080285  0.005827     white    122   \n",
       "3541          596     red -0.218719  0.031478      blue    101   \n",
       "12422        2004  purple -0.386225  0.046384       red    205   \n",
       "\n",
       "                                play  player  player_num     team          x  \\\n",
       "60113      Liverpool [2] - 0 Everton    2131         NaN   attack  53.617776   \n",
       "25757    Liverpool [4] - 0 Barcelona     747        66.0   attack  98.684985   \n",
       "28064    Liverpool [4] - 0 Barcelona   24770         NaN   attack  77.443491   \n",
       "3541        Bayern 0 - [1] Liverpool    1475         NaN  defense  86.270153   \n",
       "12422  Southampton 1 - [2] Liverpool    6593         NaN   attack  33.087385   \n",
       "\n",
       "               y    z  \n",
       "60113  71.920091  0.0  \n",
       "25757   0.597179  0.0  \n",
       "28064  46.020603  0.0  \n",
       "3541   64.897978  0.0  \n",
       "12422  45.027629  0.0  "
      ]
     },
     "execution_count": 5,
     "metadata": {},
     "output_type": "execute_result"
    }
   ],
   "source": [
    "df = pd.read_csv('data/liverpool_2019.csv')\n",
    "df.sample(5)"
   ]
  },
  {
   "cell_type": "code",
   "execution_count": 9,
   "metadata": {},
   "outputs": [],
   "source": [
    "game1 = pd.read_csv('data/LIV_[2]-1_CHE.csv')\n",
    "game1['play'] = 'Liverpool [2] - 1 Chelsea'"
   ]
  },
  {
   "cell_type": "code",
   "execution_count": 10,
   "metadata": {},
   "outputs": [],
   "source": [
    "game2 = pd.read_csv('data/Real_vs_Barcelona_Calma.csv')\n",
    "game2['play'] = 'Barcelona 1 - [2] Real Madrid'"
   ]
  },
  {
   "cell_type": "code",
   "execution_count": 17,
   "metadata": {},
   "outputs": [],
   "source": [
    "pd.concat([df, game1, game2]).drop('Unnamed: 0', axis=1).to_csv('data/all_goals.csv', index=False)"
   ]
  }
 ],
 "metadata": {
  "kernelspec": {
   "display_name": "Python 3.8.10 64-bit",
   "language": "python",
   "name": "python3"
  },
  "language_info": {
   "codemirror_mode": {
    "name": "ipython",
    "version": 3
   },
   "file_extension": ".py",
   "mimetype": "text/x-python",
   "name": "python",
   "nbconvert_exporter": "python",
   "pygments_lexer": "ipython3",
   "version": "3.8.10"
  },
  "orig_nbformat": 4,
  "vscode": {
   "interpreter": {
    "hash": "e7370f93d1d0cde622a1f8e1c04877d8463912d04d973331ad4851f04de6915a"
   }
  }
 },
 "nbformat": 4,
 "nbformat_minor": 2
}
