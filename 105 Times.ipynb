{
 "cells": [
  {
   "cell_type": "code",
   "execution_count": 1,
   "metadata": {},
   "outputs": [],
   "source": [
    "import pandas as pd"
   ]
  },
  {
   "cell_type": "code",
   "execution_count": 3,
   "metadata": {},
   "outputs": [
    {
     "data": {
      "text/html": [
       "<div>\n",
       "<style scoped>\n",
       "    .dataframe tbody tr th:only-of-type {\n",
       "        vertical-align: middle;\n",
       "    }\n",
       "\n",
       "    .dataframe tbody tr th {\n",
       "        vertical-align: top;\n",
       "    }\n",
       "\n",
       "    .dataframe thead th {\n",
       "        text-align: right;\n",
       "    }\n",
       "</style>\n",
       "<table border=\"1\" class=\"dataframe\">\n",
       "  <thead>\n",
       "    <tr style=\"text-align: right;\">\n",
       "      <th></th>\n",
       "      <th>play_frame_id</th>\n",
       "      <th>model</th>\n",
       "      <th>play</th>\n",
       "      <th>frame</th>\n",
       "      <th>inference_time</th>\n",
       "    </tr>\n",
       "  </thead>\n",
       "  <tbody>\n",
       "    <tr>\n",
       "      <th>3570</th>\n",
       "      <td>607</td>\n",
       "      <td>Fernandez Pitch Control</td>\n",
       "      <td>Barcelona 1 - [2] Real Madrid</td>\n",
       "      <td>154</td>\n",
       "      <td>0.039976</td>\n",
       "    </tr>\n",
       "    <tr>\n",
       "      <th>1226</th>\n",
       "      <td>486</td>\n",
       "      <td>KNN (Spearman)</td>\n",
       "      <td>Barcelona 1 - [2] Real Madrid</td>\n",
       "      <td>33</td>\n",
       "      <td>0.706422</td>\n",
       "    </tr>\n",
       "    <tr>\n",
       "      <th>2473</th>\n",
       "      <td>251</td>\n",
       "      <td>Spearman Pitch Control</td>\n",
       "      <td>Porto 0 - [2] Liverpool</td>\n",
       "      <td>55</td>\n",
       "      <td>23.301425</td>\n",
       "    </tr>\n",
       "    <tr>\n",
       "      <th>1183</th>\n",
       "      <td>443</td>\n",
       "      <td>KNN (Spearman)</td>\n",
       "      <td>Porto 0 - [2] Liverpool</td>\n",
       "      <td>247</td>\n",
       "      <td>0.628943</td>\n",
       "    </tr>\n",
       "    <tr>\n",
       "      <th>1415</th>\n",
       "      <td>675</td>\n",
       "      <td>KNN (Spearman)</td>\n",
       "      <td>Barcelona 1 - [2] Real Madrid</td>\n",
       "      <td>222</td>\n",
       "      <td>0.656758</td>\n",
       "    </tr>\n",
       "  </tbody>\n",
       "</table>\n",
       "</div>"
      ],
      "text/plain": [
       "      play_frame_id                    model                           play  \\\n",
       "3570            607  Fernandez Pitch Control  Barcelona 1 - [2] Real Madrid   \n",
       "1226            486           KNN (Spearman)  Barcelona 1 - [2] Real Madrid   \n",
       "2473            251   Spearman Pitch Control        Porto 0 - [2] Liverpool   \n",
       "1183            443           KNN (Spearman)        Porto 0 - [2] Liverpool   \n",
       "1415            675           KNN (Spearman)  Barcelona 1 - [2] Real Madrid   \n",
       "\n",
       "      frame  inference_time  \n",
       "3570    154        0.039976  \n",
       "1226     33        0.706422  \n",
       "2473     55       23.301425  \n",
       "1183    247        0.628943  \n",
       "1415    222        0.656758  "
      ]
     },
     "execution_count": 3,
     "metadata": {},
     "output_type": "execute_result"
    }
   ],
   "source": [
    "df = pd.read_csv('res/results.csv')\n",
    "df.sample(5)"
   ]
  },
  {
   "cell_type": "code",
   "execution_count": 5,
   "metadata": {},
   "outputs": [
    {
     "data": {
      "text/plain": [
       "model\n",
       "Fernandez Pitch Control     0.036659\n",
       "KNN (Fernandez)             0.621962\n",
       "KNN (Spearman)              0.613555\n",
       "KNN (Voronoi)               0.159587\n",
       "Spearman Pitch Control     17.379000\n",
       "Name: inference_time, dtype: float64"
      ]
     },
     "execution_count": 5,
     "metadata": {},
     "output_type": "execute_result"
    }
   ],
   "source": [
    "df.groupby(['model']).mean().inference_time"
   ]
  },
  {
   "cell_type": "code",
   "execution_count": 6,
   "metadata": {},
   "outputs": [
    {
     "data": {
      "text/plain": [
       "model\n",
       "Fernandez Pitch Control    0.002109\n",
       "KNN (Fernandez)            0.035788\n",
       "KNN (Spearman)             0.035304\n",
       "KNN (Voronoi)              0.009183\n",
       "Spearman Pitch Control     1.000000\n",
       "Name: inference_time, dtype: float64"
      ]
     },
     "execution_count": 6,
     "metadata": {},
     "output_type": "execute_result"
    }
   ],
   "source": [
    "df.groupby(['model']).mean().inference_time / df.groupby(['model']).mean().inference_time.max()"
   ]
  }
 ],
 "metadata": {
  "kernelspec": {
   "display_name": "Python 3.8.10 64-bit",
   "language": "python",
   "name": "python3"
  },
  "language_info": {
   "codemirror_mode": {
    "name": "ipython",
    "version": 3
   },
   "file_extension": ".py",
   "mimetype": "text/x-python",
   "name": "python",
   "nbconvert_exporter": "python",
   "pygments_lexer": "ipython3",
   "version": "3.8.10"
  },
  "orig_nbformat": 4,
  "vscode": {
   "interpreter": {
    "hash": "e7370f93d1d0cde622a1f8e1c04877d8463912d04d973331ad4851f04de6915a"
   }
  }
 },
 "nbformat": 4,
 "nbformat_minor": 2
}
