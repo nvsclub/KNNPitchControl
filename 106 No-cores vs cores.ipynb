{
 "cells": [
  {
   "cell_type": "code",
   "execution_count": 1,
   "metadata": {},
   "outputs": [],
   "source": [
    "import pandas as pd\n",
    "from lib.pitch_control import plot_pitch_control, KNNPitchControl, SpearmanPitchControl, FernandezPitchControl\n",
    "from lib.draw import pitch\n",
    "import matplotlib.pyplot as plt\n",
    "from time import time\n",
    "from tqdm import tqdm\n",
    "import numpy as np"
   ]
  },
  {
   "cell_type": "code",
   "execution_count": 2,
   "metadata": {},
   "outputs": [
    {
     "data": {
      "text/html": [
       "<div>\n",
       "<style scoped>\n",
       "    .dataframe tbody tr th:only-of-type {\n",
       "        vertical-align: middle;\n",
       "    }\n",
       "\n",
       "    .dataframe tbody tr th {\n",
       "        vertical-align: top;\n",
       "    }\n",
       "\n",
       "    .dataframe thead th {\n",
       "        text-align: right;\n",
       "    }\n",
       "</style>\n",
       "<table border=\"1\" class=\"dataframe\">\n",
       "  <thead>\n",
       "    <tr style=\"text-align: right;\">\n",
       "      <th></th>\n",
       "      <th>bgcolor</th>\n",
       "      <th>dx</th>\n",
       "      <th>dy</th>\n",
       "      <th>edgecolor</th>\n",
       "      <th>frame</th>\n",
       "      <th>play</th>\n",
       "      <th>player</th>\n",
       "      <th>player_num</th>\n",
       "      <th>team</th>\n",
       "      <th>x</th>\n",
       "      <th>y</th>\n",
       "      <th>z</th>\n",
       "      <th>coords</th>\n",
       "      <th>player_obj</th>\n",
       "      <th>num</th>\n",
       "      <th>name</th>\n",
       "      <th>play_id</th>\n",
       "    </tr>\n",
       "  </thead>\n",
       "  <tbody>\n",
       "    <tr>\n",
       "      <th>65606</th>\n",
       "      <td>darkred</td>\n",
       "      <td>-0.423933</td>\n",
       "      <td>-0.158029</td>\n",
       "      <td>black</td>\n",
       "      <td>80</td>\n",
       "      <td>Bournemouth 0 - 3 Liverpool</td>\n",
       "      <td>12087</td>\n",
       "      <td>NaN</td>\n",
       "      <td>defense</td>\n",
       "      <td>34.747346</td>\n",
       "      <td>56.850198</td>\n",
       "      <td>0.0</td>\n",
       "      <td>NaN</td>\n",
       "      <td>NaN</td>\n",
       "      <td>NaN</td>\n",
       "      <td>NaN</td>\n",
       "      <td>2</td>\n",
       "    </tr>\n",
       "    <tr>\n",
       "      <th>32177</th>\n",
       "      <td>yellow</td>\n",
       "      <td>0.045559</td>\n",
       "      <td>-0.066645</td>\n",
       "      <td>green</td>\n",
       "      <td>72</td>\n",
       "      <td>Liverpool [3] - 0 Norwich</td>\n",
       "      <td>3270</td>\n",
       "      <td>NaN</td>\n",
       "      <td>defense</td>\n",
       "      <td>13.184582</td>\n",
       "      <td>52.254258</td>\n",
       "      <td>0.0</td>\n",
       "      <td>NaN</td>\n",
       "      <td>NaN</td>\n",
       "      <td>NaN</td>\n",
       "      <td>NaN</td>\n",
       "      <td>16</td>\n",
       "    </tr>\n",
       "    <tr>\n",
       "      <th>56683</th>\n",
       "      <td>red</td>\n",
       "      <td>-0.139204</td>\n",
       "      <td>0.014279</td>\n",
       "      <td>white</td>\n",
       "      <td>33</td>\n",
       "      <td>Liverpool [1] - 0 Everton</td>\n",
       "      <td>15026</td>\n",
       "      <td>NaN</td>\n",
       "      <td>attack</td>\n",
       "      <td>83.688998</td>\n",
       "      <td>72.623605</td>\n",
       "      <td>0.0</td>\n",
       "      <td>NaN</td>\n",
       "      <td>NaN</td>\n",
       "      <td>NaN</td>\n",
       "      <td>NaN</td>\n",
       "      <td>6</td>\n",
       "    </tr>\n",
       "    <tr>\n",
       "      <th>69169</th>\n",
       "      <td>red</td>\n",
       "      <td>-0.501472</td>\n",
       "      <td>-0.036548</td>\n",
       "      <td>white</td>\n",
       "      <td>133</td>\n",
       "      <td>Liverpool [1] - 0 Watford</td>\n",
       "      <td>4275</td>\n",
       "      <td>9.0</td>\n",
       "      <td>attack</td>\n",
       "      <td>41.765772</td>\n",
       "      <td>48.914255</td>\n",
       "      <td>0.0</td>\n",
       "      <td>NaN</td>\n",
       "      <td>NaN</td>\n",
       "      <td>NaN</td>\n",
       "      <td>NaN</td>\n",
       "      <td>7</td>\n",
       "    </tr>\n",
       "    <tr>\n",
       "      <th>48436</th>\n",
       "      <td>red</td>\n",
       "      <td>0.046892</td>\n",
       "      <td>0.073530</td>\n",
       "      <td>white</td>\n",
       "      <td>108</td>\n",
       "      <td>Genk 0 - [3] Liverpool</td>\n",
       "      <td>10053</td>\n",
       "      <td>NaN</td>\n",
       "      <td>attack</td>\n",
       "      <td>55.776677</td>\n",
       "      <td>22.933616</td>\n",
       "      <td>0.0</td>\n",
       "      <td>NaN</td>\n",
       "      <td>NaN</td>\n",
       "      <td>NaN</td>\n",
       "      <td>NaN</td>\n",
       "      <td>4</td>\n",
       "    </tr>\n",
       "  </tbody>\n",
       "</table>\n",
       "</div>"
      ],
      "text/plain": [
       "       bgcolor        dx        dy edgecolor  frame  \\\n",
       "65606  darkred -0.423933 -0.158029     black     80   \n",
       "32177   yellow  0.045559 -0.066645     green     72   \n",
       "56683      red -0.139204  0.014279     white     33   \n",
       "69169      red -0.501472 -0.036548     white    133   \n",
       "48436      red  0.046892  0.073530     white    108   \n",
       "\n",
       "                              play  player  player_num     team          x  \\\n",
       "65606  Bournemouth 0 - 3 Liverpool   12087         NaN  defense  34.747346   \n",
       "32177    Liverpool [3] - 0 Norwich    3270         NaN  defense  13.184582   \n",
       "56683    Liverpool [1] - 0 Everton   15026         NaN   attack  83.688998   \n",
       "69169    Liverpool [1] - 0 Watford    4275         9.0   attack  41.765772   \n",
       "48436       Genk 0 - [3] Liverpool   10053         NaN   attack  55.776677   \n",
       "\n",
       "               y    z coords  player_obj  num  name  play_id  \n",
       "65606  56.850198  0.0    NaN         NaN  NaN   NaN        2  \n",
       "32177  52.254258  0.0    NaN         NaN  NaN   NaN       16  \n",
       "56683  72.623605  0.0    NaN         NaN  NaN   NaN        6  \n",
       "69169  48.914255  0.0    NaN         NaN  NaN   NaN        7  \n",
       "48436  22.933616  0.0    NaN         NaN  NaN   NaN        4  "
      ]
     },
     "execution_count": 2,
     "metadata": {},
     "output_type": "execute_result"
    }
   ],
   "source": [
    "df = pd.read_csv('data/all_goals.csv', low_memory=False)\n",
    "df.edgecolor.fillna('white', inplace=True)\n",
    "df.bgcolor.fillna('black', inplace=True)\n",
    "df.sample(5)"
   ]
  },
  {
   "cell_type": "code",
   "execution_count": 3,
   "metadata": {},
   "outputs": [
    {
     "data": {
      "text/html": [
       "<div>\n",
       "<style scoped>\n",
       "    .dataframe tbody tr th:only-of-type {\n",
       "        vertical-align: middle;\n",
       "    }\n",
       "\n",
       "    .dataframe tbody tr th {\n",
       "        vertical-align: top;\n",
       "    }\n",
       "\n",
       "    .dataframe thead th {\n",
       "        text-align: right;\n",
       "    }\n",
       "</style>\n",
       "<table border=\"1\" class=\"dataframe\">\n",
       "  <thead>\n",
       "    <tr style=\"text-align: right;\">\n",
       "      <th></th>\n",
       "      <th>bgcolor</th>\n",
       "      <th>dx</th>\n",
       "      <th>dy</th>\n",
       "      <th>edgecolor</th>\n",
       "      <th>frame</th>\n",
       "      <th>play</th>\n",
       "      <th>player</th>\n",
       "      <th>player_num</th>\n",
       "      <th>team</th>\n",
       "      <th>x</th>\n",
       "      <th>y</th>\n",
       "      <th>z</th>\n",
       "      <th>coords</th>\n",
       "      <th>player_obj</th>\n",
       "      <th>num</th>\n",
       "      <th>name</th>\n",
       "      <th>play_id</th>\n",
       "    </tr>\n",
       "  </thead>\n",
       "  <tbody>\n",
       "    <tr>\n",
       "      <th>15666</th>\n",
       "      <td>red</td>\n",
       "      <td>-0.022070</td>\n",
       "      <td>-0.007847</td>\n",
       "      <td>white</td>\n",
       "      <td>37</td>\n",
       "      <td>Liverpool [2] - 0 Porto</td>\n",
       "      <td>1060</td>\n",
       "      <td>66.0</td>\n",
       "      <td>attack</td>\n",
       "      <td>25.501129</td>\n",
       "      <td>91.686848</td>\n",
       "      <td>0.0</td>\n",
       "      <td>NaN</td>\n",
       "      <td>NaN</td>\n",
       "      <td>NaN</td>\n",
       "      <td>NaN</td>\n",
       "      <td>11</td>\n",
       "    </tr>\n",
       "    <tr>\n",
       "      <th>16312</th>\n",
       "      <td>blue</td>\n",
       "      <td>-0.118830</td>\n",
       "      <td>0.182196</td>\n",
       "      <td>white</td>\n",
       "      <td>98</td>\n",
       "      <td>Liverpool [2] - 0 Porto</td>\n",
       "      <td>1452</td>\n",
       "      <td>NaN</td>\n",
       "      <td>defense</td>\n",
       "      <td>17.629141</td>\n",
       "      <td>45.448164</td>\n",
       "      <td>0.0</td>\n",
       "      <td>NaN</td>\n",
       "      <td>NaN</td>\n",
       "      <td>NaN</td>\n",
       "      <td>NaN</td>\n",
       "      <td>11</td>\n",
       "    </tr>\n",
       "    <tr>\n",
       "      <th>16767</th>\n",
       "      <td>blue</td>\n",
       "      <td>-0.169452</td>\n",
       "      <td>-0.343916</td>\n",
       "      <td>white</td>\n",
       "      <td>163</td>\n",
       "      <td>Liverpool [2] - 0 Porto</td>\n",
       "      <td>1454</td>\n",
       "      <td>NaN</td>\n",
       "      <td>defense</td>\n",
       "      <td>10.295577</td>\n",
       "      <td>72.401156</td>\n",
       "      <td>0.0</td>\n",
       "      <td>NaN</td>\n",
       "      <td>NaN</td>\n",
       "      <td>NaN</td>\n",
       "      <td>NaN</td>\n",
       "      <td>11</td>\n",
       "    </tr>\n",
       "  </tbody>\n",
       "</table>\n",
       "</div>"
      ],
      "text/plain": [
       "      bgcolor        dx        dy edgecolor  frame                     play  \\\n",
       "15666     red -0.022070 -0.007847     white     37  Liverpool [2] - 0 Porto   \n",
       "16312    blue -0.118830  0.182196     white     98  Liverpool [2] - 0 Porto   \n",
       "16767    blue -0.169452 -0.343916     white    163  Liverpool [2] - 0 Porto   \n",
       "\n",
       "       player  player_num     team          x          y    z coords  \\\n",
       "15666    1060        66.0   attack  25.501129  91.686848  0.0    NaN   \n",
       "16312    1452         NaN  defense  17.629141  45.448164  0.0    NaN   \n",
       "16767    1454         NaN  defense  10.295577  72.401156  0.0    NaN   \n",
       "\n",
       "       player_obj  num  name  play_id  \n",
       "15666         NaN  NaN   NaN       11  \n",
       "16312         NaN  NaN   NaN       11  \n",
       "16767         NaN  NaN   NaN       11  "
      ]
     },
     "execution_count": 3,
     "metadata": {},
     "output_type": "execute_result"
    }
   ],
   "source": [
    "df = df[df.play == 'Liverpool [2] - 0 Porto']\n",
    "df.sample(3)"
   ]
  },
  {
   "cell_type": "code",
   "execution_count": 4,
   "metadata": {},
   "outputs": [],
   "source": [
    "knn_pitch_control_voronoi = KNNPitchControl()\n",
    "knn_pitch_control_spearman = KNNPitchControl(lags=[5, 15, 25], smoothing=6)\n",
    "knn_pitch_control_voronoi_single = KNNPitchControl(n_jobs=1)\n",
    "knn_pitch_control_spearman_single = KNNPitchControl(lags=[5, 15, 25], smoothing=6, n_jobs=1)"
   ]
  },
  {
   "cell_type": "code",
   "execution_count": 5,
   "metadata": {},
   "outputs": [
    {
     "data": {
      "text/plain": [
       "0.0037451982498168945"
      ]
     },
     "execution_count": 5,
     "metadata": {},
     "output_type": "execute_result"
    }
   ],
   "source": [
    "a = []\n",
    "for i in range(10):\n",
    "    t0 = time()\n",
    "    knn_pitch_control_voronoi = KNNPitchControl()\n",
    "    t1 = time()\n",
    "    a.append(t1-t0)\n",
    "np.mean(a)"
   ]
  },
  {
   "cell_type": "code",
   "execution_count": 6,
   "metadata": {},
   "outputs": [
    {
     "data": {
      "text/plain": [
       "0.15356361865997314"
      ]
     },
     "execution_count": 6,
     "metadata": {},
     "output_type": "execute_result"
    }
   ],
   "source": [
    "a = []\n",
    "for i in range(10):\n",
    "    t0 = time()\n",
    "    knn_pitch_control_voronoi.predict(df)\n",
    "    t1 = time()\n",
    "    a.append(t1-t0)\n",
    "np.mean(a)"
   ]
  },
  {
   "cell_type": "code",
   "execution_count": 7,
   "metadata": {},
   "outputs": [
    {
     "data": {
      "text/plain": [
       "0.14282557964324952"
      ]
     },
     "execution_count": 7,
     "metadata": {},
     "output_type": "execute_result"
    }
   ],
   "source": [
    "a = []\n",
    "for i in range(10):\n",
    "    t0 = time()\n",
    "    knn_pitch_control_voronoi_single.predict(df)\n",
    "    t1 = time()\n",
    "    a.append(t1-t0)\n",
    "np.mean(a)"
   ]
  },
  {
   "cell_type": "code",
   "execution_count": 8,
   "metadata": {},
   "outputs": [
    {
     "data": {
      "text/plain": [
       "0.5752100467681884"
      ]
     },
     "execution_count": 8,
     "metadata": {},
     "output_type": "execute_result"
    }
   ],
   "source": [
    "a = []\n",
    "for i in range(10):\n",
    "    t0 = time()\n",
    "    knn_pitch_control_spearman.predict(df)\n",
    "    t1 = time()\n",
    "    a.append(t1-t0)\n",
    "np.mean(a)"
   ]
  },
  {
   "cell_type": "code",
   "execution_count": 9,
   "metadata": {},
   "outputs": [
    {
     "data": {
      "text/plain": [
       "0.6920559644699097"
      ]
     },
     "execution_count": 9,
     "metadata": {},
     "output_type": "execute_result"
    }
   ],
   "source": [
    "a = []\n",
    "for i in range(10):\n",
    "    t0 = time()\n",
    "    knn_pitch_control_spearman_single.predict(df)\n",
    "    t1 = time()\n",
    "    a.append(t1-t0)\n",
    "np.mean(a)"
   ]
  }
 ],
 "metadata": {
  "kernelspec": {
   "display_name": "Python 3.8.10 64-bit",
   "language": "python",
   "name": "python3"
  },
  "language_info": {
   "codemirror_mode": {
    "name": "ipython",
    "version": 3
   },
   "file_extension": ".py",
   "mimetype": "text/x-python",
   "name": "python",
   "nbconvert_exporter": "python",
   "pygments_lexer": "ipython3",
   "version": "3.8.10"
  },
  "orig_nbformat": 4,
  "vscode": {
   "interpreter": {
    "hash": "e7370f93d1d0cde622a1f8e1c04877d8463912d04d973331ad4851f04de6915a"
   }
  }
 },
 "nbformat": 4,
 "nbformat_minor": 2
}
